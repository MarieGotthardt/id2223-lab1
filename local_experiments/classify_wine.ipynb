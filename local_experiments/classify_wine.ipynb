{
 "cells": [
  {
   "cell_type": "code",
   "execution_count": 2,
   "metadata": {
    "collapsed": true,
    "ExecuteTime": {
     "end_time": "2023-11-15T08:54:10.655421500Z",
     "start_time": "2023-11-15T08:54:09.614145100Z"
    }
   },
   "outputs": [],
   "source": [
    "import pandas as pd\n",
    "import numpy as np\n",
    "import xgboost as xgb\n",
    "from sklearn.ensemble import RandomForestClassifier\n",
    "from sklearn.model_selection import train_test_split\n"
   ]
  },
  {
   "cell_type": "code",
   "execution_count": 3,
   "outputs": [],
   "source": [
    "## PREPARE DATA ##\n",
    "wine_df = pd.read_csv(\"../winequality.csv\")\n",
    "\n",
    "# Fill missing data with either random data or a category corresponding to \"Unknown\"\n",
    "for column in wine_df.columns:\n",
    "    if wine_df[column].isna().any() and pd.api.types.is_numeric_dtype(wine_df[column]):\n",
    "        wine_df.loc[wine_df[column].isna(), column] = [i for i in np.random.choice(range(round(wine_df[column].min()), round(wine_df[column]. max())), wine_df[column].isna().sum())]\n",
    "    elif wine_df[column].isna().any() and (pd.api.types.is_object_dtype(wine_df[column]) or pd.api.types.is_categorical_dtype(wine_df[column])):\n",
    "        wine_df[column].fillna(\"Unknown\")\n",
    "\n",
    "# One-hot encode wine type\n",
    "for column in wine_df.columns:\n",
    "    if pd.api.types.is_categorical_dtype(wine_df[column]) or pd.api.types.is_object_dtype(wine_df[column]):\n",
    "        one_hot = pd.get_dummies(wine_df[column], prefix=column)\n",
    "        wine_df = wine_df.drop(column, axis = 1)\n",
    "        wine_df = wine_df.join(one_hot)\n"
   ],
   "metadata": {
    "collapsed": false,
    "ExecuteTime": {
     "end_time": "2023-11-15T08:54:12.510262Z",
     "start_time": "2023-11-15T08:54:12.443465400Z"
    }
   }
  },
  {
   "cell_type": "code",
   "execution_count": 4,
   "outputs": [
    {
     "data": {
      "text/plain": "      fixed acidity  volatile acidity  citric acid  residual sugar  chlorides  \\\n0               7.0             0.270         0.36            20.7      0.045   \n1               6.3             0.300         0.34             1.6      0.049   \n2               8.1             0.280         0.40             6.9      0.050   \n3               7.2             0.230         0.32             8.5      0.058   \n4               7.2             0.230         0.32             8.5      0.058   \n...             ...               ...          ...             ...        ...   \n6492            6.2             0.600         0.08             2.0      0.090   \n6493            5.9             0.550         0.10             2.2      0.062   \n6494            6.3             0.510         0.13             2.3      0.076   \n6495            5.9             0.645         0.12             2.0      0.075   \n6496            6.0             0.310         0.47             3.6      0.067   \n\n      free sulfur dioxide  total sulfur dioxide  density    pH  sulphates  \\\n0                    45.0                 170.0  1.00100  3.00       0.45   \n1                    14.0                 132.0  0.99400  3.30       0.49   \n2                    30.0                  97.0  0.99510  3.26       0.44   \n3                    47.0                 186.0  0.99560  3.19       0.40   \n4                    47.0                 186.0  0.99560  3.19       0.40   \n...                   ...                   ...      ...   ...        ...   \n6492                 32.0                  44.0  0.99490  3.45       0.58   \n6493                 39.0                  51.0  0.99512  3.52       1.00   \n6494                 29.0                  40.0  0.99574  3.42       0.75   \n6495                 32.0                  44.0  0.99547  3.57       0.71   \n6496                 18.0                  42.0  0.99549  3.39       0.66   \n\n      alcohol  quality  type_red  type_white  \n0         8.8        6         0           1  \n1         9.5        6         0           1  \n2        10.1        6         0           1  \n3         9.9        6         0           1  \n4         9.9        6         0           1  \n...       ...      ...       ...         ...  \n6492     10.5        5         1           0  \n6493     11.2        6         1           0  \n6494     11.0        6         1           0  \n6495     10.2        5         1           0  \n6496     11.0        6         1           0  \n\n[6497 rows x 14 columns]",
      "text/html": "<div>\n<style scoped>\n    .dataframe tbody tr th:only-of-type {\n        vertical-align: middle;\n    }\n\n    .dataframe tbody tr th {\n        vertical-align: top;\n    }\n\n    .dataframe thead th {\n        text-align: right;\n    }\n</style>\n<table border=\"1\" class=\"dataframe\">\n  <thead>\n    <tr style=\"text-align: right;\">\n      <th></th>\n      <th>fixed acidity</th>\n      <th>volatile acidity</th>\n      <th>citric acid</th>\n      <th>residual sugar</th>\n      <th>chlorides</th>\n      <th>free sulfur dioxide</th>\n      <th>total sulfur dioxide</th>\n      <th>density</th>\n      <th>pH</th>\n      <th>sulphates</th>\n      <th>alcohol</th>\n      <th>quality</th>\n      <th>type_red</th>\n      <th>type_white</th>\n    </tr>\n  </thead>\n  <tbody>\n    <tr>\n      <th>0</th>\n      <td>7.0</td>\n      <td>0.270</td>\n      <td>0.36</td>\n      <td>20.7</td>\n      <td>0.045</td>\n      <td>45.0</td>\n      <td>170.0</td>\n      <td>1.00100</td>\n      <td>3.00</td>\n      <td>0.45</td>\n      <td>8.8</td>\n      <td>6</td>\n      <td>0</td>\n      <td>1</td>\n    </tr>\n    <tr>\n      <th>1</th>\n      <td>6.3</td>\n      <td>0.300</td>\n      <td>0.34</td>\n      <td>1.6</td>\n      <td>0.049</td>\n      <td>14.0</td>\n      <td>132.0</td>\n      <td>0.99400</td>\n      <td>3.30</td>\n      <td>0.49</td>\n      <td>9.5</td>\n      <td>6</td>\n      <td>0</td>\n      <td>1</td>\n    </tr>\n    <tr>\n      <th>2</th>\n      <td>8.1</td>\n      <td>0.280</td>\n      <td>0.40</td>\n      <td>6.9</td>\n      <td>0.050</td>\n      <td>30.0</td>\n      <td>97.0</td>\n      <td>0.99510</td>\n      <td>3.26</td>\n      <td>0.44</td>\n      <td>10.1</td>\n      <td>6</td>\n      <td>0</td>\n      <td>1</td>\n    </tr>\n    <tr>\n      <th>3</th>\n      <td>7.2</td>\n      <td>0.230</td>\n      <td>0.32</td>\n      <td>8.5</td>\n      <td>0.058</td>\n      <td>47.0</td>\n      <td>186.0</td>\n      <td>0.99560</td>\n      <td>3.19</td>\n      <td>0.40</td>\n      <td>9.9</td>\n      <td>6</td>\n      <td>0</td>\n      <td>1</td>\n    </tr>\n    <tr>\n      <th>4</th>\n      <td>7.2</td>\n      <td>0.230</td>\n      <td>0.32</td>\n      <td>8.5</td>\n      <td>0.058</td>\n      <td>47.0</td>\n      <td>186.0</td>\n      <td>0.99560</td>\n      <td>3.19</td>\n      <td>0.40</td>\n      <td>9.9</td>\n      <td>6</td>\n      <td>0</td>\n      <td>1</td>\n    </tr>\n    <tr>\n      <th>...</th>\n      <td>...</td>\n      <td>...</td>\n      <td>...</td>\n      <td>...</td>\n      <td>...</td>\n      <td>...</td>\n      <td>...</td>\n      <td>...</td>\n      <td>...</td>\n      <td>...</td>\n      <td>...</td>\n      <td>...</td>\n      <td>...</td>\n      <td>...</td>\n    </tr>\n    <tr>\n      <th>6492</th>\n      <td>6.2</td>\n      <td>0.600</td>\n      <td>0.08</td>\n      <td>2.0</td>\n      <td>0.090</td>\n      <td>32.0</td>\n      <td>44.0</td>\n      <td>0.99490</td>\n      <td>3.45</td>\n      <td>0.58</td>\n      <td>10.5</td>\n      <td>5</td>\n      <td>1</td>\n      <td>0</td>\n    </tr>\n    <tr>\n      <th>6493</th>\n      <td>5.9</td>\n      <td>0.550</td>\n      <td>0.10</td>\n      <td>2.2</td>\n      <td>0.062</td>\n      <td>39.0</td>\n      <td>51.0</td>\n      <td>0.99512</td>\n      <td>3.52</td>\n      <td>1.00</td>\n      <td>11.2</td>\n      <td>6</td>\n      <td>1</td>\n      <td>0</td>\n    </tr>\n    <tr>\n      <th>6494</th>\n      <td>6.3</td>\n      <td>0.510</td>\n      <td>0.13</td>\n      <td>2.3</td>\n      <td>0.076</td>\n      <td>29.0</td>\n      <td>40.0</td>\n      <td>0.99574</td>\n      <td>3.42</td>\n      <td>0.75</td>\n      <td>11.0</td>\n      <td>6</td>\n      <td>1</td>\n      <td>0</td>\n    </tr>\n    <tr>\n      <th>6495</th>\n      <td>5.9</td>\n      <td>0.645</td>\n      <td>0.12</td>\n      <td>2.0</td>\n      <td>0.075</td>\n      <td>32.0</td>\n      <td>44.0</td>\n      <td>0.99547</td>\n      <td>3.57</td>\n      <td>0.71</td>\n      <td>10.2</td>\n      <td>5</td>\n      <td>1</td>\n      <td>0</td>\n    </tr>\n    <tr>\n      <th>6496</th>\n      <td>6.0</td>\n      <td>0.310</td>\n      <td>0.47</td>\n      <td>3.6</td>\n      <td>0.067</td>\n      <td>18.0</td>\n      <td>42.0</td>\n      <td>0.99549</td>\n      <td>3.39</td>\n      <td>0.66</td>\n      <td>11.0</td>\n      <td>6</td>\n      <td>1</td>\n      <td>0</td>\n    </tr>\n  </tbody>\n</table>\n<p>6497 rows × 14 columns</p>\n</div>"
     },
     "execution_count": 4,
     "metadata": {},
     "output_type": "execute_result"
    }
   ],
   "source": [
    "wine_df"
   ],
   "metadata": {
    "collapsed": false,
    "ExecuteTime": {
     "end_time": "2023-11-15T08:54:13.832669300Z",
     "start_time": "2023-11-15T08:54:13.802110300Z"
    }
   }
  },
  {
   "cell_type": "code",
   "execution_count": 5,
   "outputs": [],
   "source": [
    "def run_clf(X_train, X_test, y_train, y_test):\n",
    "    ## XGBOOST ##\n",
    "    # Initialize the XGBoost classifier\n",
    "    xgb_clf = xgb.XGBClassifier(objective='multi:softprob', eval_metric='mlogloss',n_estimators=1000)\n",
    "\n",
    "    # Train the classifier\n",
    "    xgb_clf.fit(X_train, y_train)\n",
    "\n",
    "    from sklearn.metrics import accuracy_score\n",
    "\n",
    "    # Predictions on the test set\n",
    "    xgb_y_pred = xgb_clf.predict(X_test)\n",
    "\n",
    "    # Calculate the accuracy\n",
    "    xgb_accuracy = accuracy_score(y_test, xgb_y_pred)\n",
    "    print(\"XGBoost accuracy:\", xgb_accuracy)\n",
    "\n",
    "\n",
    "    ## RANDOM FOREST ##\n",
    "    # Initialize the RF classifier\n",
    "    rf_clf = RandomForestClassifier()\n",
    "\n",
    "    # Train the classifier\n",
    "    rf_clf.fit(X_train, y_train)\n",
    "\n",
    "    # Predictions on the test set\n",
    "    rf_y_pred = rf_clf.predict(X_test)\n",
    "\n",
    "    # Calculate the accuracy\n",
    "    rf_accuracy = accuracy_score(y_test, rf_y_pred)\n",
    "    print(\"RF accuracy:\", rf_accuracy)\n",
    "\n",
    "    print()"
   ],
   "metadata": {
    "collapsed": false,
    "ExecuteTime": {
     "end_time": "2023-11-15T08:54:15.332109700Z",
     "start_time": "2023-11-15T08:54:15.307320900Z"
    }
   }
  },
  {
   "cell_type": "code",
   "execution_count": 6,
   "outputs": [],
   "source": [
    "def run_bin_clf(X_train, X_test, y_train, y_test):\n",
    "    ## XGBOOST ##\n",
    "    # Initialize the XGBoost classifier\n",
    "    xgb_clf = xgb.XGBClassifier(n_estimators = 1000)\n",
    "\n",
    "    # Train the classifier\n",
    "    xgb_clf.fit(X_train, y_train)\n",
    "\n",
    "    from sklearn.metrics import accuracy_score\n",
    "\n",
    "    # Predictions on the test set\n",
    "    xgb_y_pred = xgb_clf.predict(X_test)\n",
    "\n",
    "    # Calculate the accuracy\n",
    "    xgb_accuracy = accuracy_score(y_test, xgb_y_pred)\n",
    "    print(\"XGBoost accuracy:\", xgb_accuracy)\n",
    "\n",
    "\n",
    "    ## RANDOM FOREST ##\n",
    "    # Initialize the RF classifier\n",
    "    rf_clf = RandomForestClassifier()\n",
    "\n",
    "    # Train the classifier\n",
    "    rf_clf.fit(X_train, y_train)\n",
    "\n",
    "    # Predictions on the test set\n",
    "    rf_y_pred = rf_clf.predict(X_test)\n",
    "\n",
    "    # Calculate the accuracy\n",
    "    rf_accuracy = accuracy_score(y_test, rf_y_pred)\n",
    "    print(\"RF accuracy:\", rf_accuracy)\n",
    "\n",
    "    print()"
   ],
   "metadata": {
    "collapsed": false,
    "ExecuteTime": {
     "end_time": "2023-11-15T08:54:16.064499100Z",
     "start_time": "2023-11-15T08:54:16.029100Z"
    }
   }
  },
  {
   "cell_type": "markdown",
   "source": [
    "### Classification without removing features"
   ],
   "metadata": {
    "collapsed": false
   }
  },
  {
   "cell_type": "code",
   "execution_count": 7,
   "outputs": [
    {
     "name": "stdout",
     "output_type": "stream",
     "text": [
      "\n",
      "Accuracies without dropping features:\n",
      "XGBoost accuracy: 0.6615384615384615\n",
      "RF accuracy: 0.6792307692307692\n",
      "\n"
     ]
    }
   ],
   "source": [
    "## CLASSIFY WITHOUT REMOVING DATA FEATURES ##\n",
    "X = wine_df.drop(\"quality\", axis=1)\n",
    "y = wine_df[\"quality\"]\n",
    "y = y - 3 # remap labels from 3-9 to 0-6\n",
    "\n",
    "X_train, X_test, y_train, y_test = train_test_split(X, y, stratify=y, test_size=0.2, random_state=42)\n",
    "\n",
    "print()\n",
    "print(\"Accuracies without dropping features:\")\n",
    "run_clf(X_train, X_test, y_train, y_test)"
   ],
   "metadata": {
    "collapsed": false,
    "ExecuteTime": {
     "end_time": "2023-11-15T08:54:24.475789200Z",
     "start_time": "2023-11-15T08:54:17.461027300Z"
    }
   }
  },
  {
   "cell_type": "markdown",
   "source": [
    "#### Classification with binary categories"
   ],
   "metadata": {
    "collapsed": false
   }
  },
  {
   "cell_type": "code",
   "execution_count": 9,
   "outputs": [],
   "source": [
    "#define wine class [1 = 'Good Quality', 0 = 'Bad Quality']\n",
    "wine_df['def_quality'] = [0 if x < 7 else 1 for x in wine_df['quality']]# Separate feature variables and target variable\n",
    "X_binary = wine_df.drop(['quality','def_quality'], axis = 1)\n",
    "y_binary = wine_df['def_quality']"
   ],
   "metadata": {
    "collapsed": false,
    "ExecuteTime": {
     "end_time": "2023-11-15T08:54:24.764366100Z",
     "start_time": "2023-11-15T08:54:24.736964800Z"
    }
   }
  },
  {
   "cell_type": "code",
   "execution_count": 10,
   "outputs": [
    {
     "data": {
      "text/plain": "0    5220\n1    1277\nName: def_quality, dtype: int64"
     },
     "execution_count": 10,
     "metadata": {},
     "output_type": "execute_result"
    }
   ],
   "source": [
    "y_binary.value_counts()"
   ],
   "metadata": {
    "collapsed": false,
    "ExecuteTime": {
     "end_time": "2023-11-15T08:54:25.554800400Z",
     "start_time": "2023-11-15T08:54:25.520859700Z"
    }
   }
  },
  {
   "cell_type": "code",
   "execution_count": 11,
   "outputs": [
    {
     "name": "stdout",
     "output_type": "stream",
     "text": [
      "\n",
      "Accuracies without dropping features and binary classification:\n",
      "XGBoost accuracy: 0.8846153846153846\n",
      "RF accuracy: 0.8946153846153846\n",
      "\n"
     ]
    }
   ],
   "source": [
    "from sklearn.metrics import accuracy_score\n",
    "X_train, X_test, y_train, y_test = train_test_split(X_binary, y_binary, stratify=y_binary, test_size=0.2, random_state=42)\n",
    "\n",
    "print()\n",
    "print(\"Accuracies without dropping features and binary classification:\")\n",
    "run_bin_clf(X_train, X_test, y_train, y_test)"
   ],
   "metadata": {
    "collapsed": false,
    "ExecuteTime": {
     "end_time": "2023-11-15T08:54:28.838535200Z",
     "start_time": "2023-11-15T08:54:26.980805200Z"
    }
   }
  },
  {
   "cell_type": "markdown",
   "source": [
    "#### Classification with five categories"
   ],
   "metadata": {
    "collapsed": false
   }
  },
  {
   "cell_type": "code",
   "execution_count": 12,
   "outputs": [],
   "source": [
    "#define wine class [2 = 'Good Quality', 1 = \"Mediocre Quality\", 0 = 'Bad Quality']\n",
    "wine_df['def_quality'] = [0 if x < 4  else 1 if x==4 else 2 if x==5 else 3 if x <8  else 4 for x in wine_df['quality']]# Separate feature variables and target variable\n",
    "X_five = wine_df.drop(['quality','def_quality'], axis = 1)\n",
    "y_five = wine_df['def_quality']"
   ],
   "metadata": {
    "collapsed": false,
    "ExecuteTime": {
     "end_time": "2023-11-15T08:54:30.010199900Z",
     "start_time": "2023-11-15T08:54:29.982148500Z"
    }
   }
  },
  {
   "cell_type": "code",
   "execution_count": 13,
   "outputs": [
    {
     "data": {
      "text/plain": "3    3915\n2    2138\n1     216\n4     198\n0      30\nName: def_quality, dtype: int64"
     },
     "execution_count": 13,
     "metadata": {},
     "output_type": "execute_result"
    }
   ],
   "source": [
    "y_five.value_counts()"
   ],
   "metadata": {
    "collapsed": false,
    "ExecuteTime": {
     "end_time": "2023-11-15T08:54:31.304420700Z",
     "start_time": "2023-11-15T08:54:31.291422300Z"
    }
   }
  },
  {
   "cell_type": "code",
   "execution_count": 14,
   "outputs": [
    {
     "name": "stdout",
     "output_type": "stream",
     "text": [
      "\n",
      "Accuracies without dropping features and five class classification:\n",
      "XGBoost accuracy: 0.7853846153846153\n",
      "RF accuracy: 0.796923076923077\n",
      "\n"
     ]
    }
   ],
   "source": [
    "from sklearn.metrics import accuracy_score\n",
    "X_train, X_test, y_train, y_test = train_test_split(X_five, y_five, stratify=y_five, test_size=0.2, random_state=42)\n",
    "\n",
    "print()\n",
    "print(\"Accuracies without dropping features and five class classification:\")\n",
    "run_clf(X_train, X_test, y_train, y_test)"
   ],
   "metadata": {
    "collapsed": false,
    "ExecuteTime": {
     "end_time": "2023-11-15T08:54:37.626389300Z",
     "start_time": "2023-11-15T08:54:32.523247900Z"
    }
   }
  },
  {
   "cell_type": "markdown",
   "source": [
    "### Classification with feature selection"
   ],
   "metadata": {
    "collapsed": false
   }
  },
  {
   "cell_type": "code",
   "execution_count": 15,
   "outputs": [
    {
     "data": {
      "text/plain": "                      fixed acidity  volatile acidity  citric acid  \\\nfixed acidity                   NaN           0.21503     0.318580   \nvolatile acidity                NaN               NaN     0.374039   \ncitric acid                     NaN               NaN          NaN   \nresidual sugar                  NaN               NaN          NaN   \nchlorides                       NaN               NaN          NaN   \nfree sulfur dioxide             NaN               NaN          NaN   \ntotal sulfur dioxide            NaN               NaN          NaN   \ndensity                         NaN               NaN          NaN   \npH                              NaN               NaN          NaN   \nsulphates                       NaN               NaN          NaN   \nalcohol                         NaN               NaN          NaN   \ntype_red                        NaN               NaN          NaN   \ntype_white                      NaN               NaN          NaN   \ndef_quality                     NaN               NaN          NaN   \n\n                      residual sugar  chlorides  free sulfur dioxide  \\\nfixed acidity               0.108756   0.295989             0.281483   \nvolatile acidity            0.197131   0.375245             0.350006   \ncitric acid                 0.142985   0.038160             0.133535   \nresidual sugar                   NaN   0.128975             0.402461   \nchlorides                        NaN        NaN             0.194886   \nfree sulfur dioxide              NaN        NaN                  NaN   \ntotal sulfur dioxide             NaN        NaN                  NaN   \ndensity                          NaN        NaN                  NaN   \npH                               NaN        NaN                  NaN   \nsulphates                        NaN        NaN                  NaN   \nalcohol                          NaN        NaN                  NaN   \ntype_red                         NaN        NaN                  NaN   \ntype_white                       NaN        NaN                  NaN   \ndef_quality                      NaN        NaN                  NaN   \n\n                      total sulfur dioxide   density        pH  sulphates  \\\nfixed acidity                     0.326127  0.458993  0.250065   0.299075   \nvolatile acidity                  0.413496  0.268086  0.256210   0.225207   \ncitric acid                       0.196442  0.096712  0.327373   0.054252   \nresidual sugar                    0.493412  0.549062  0.263197   0.184723   \nchlorides                         0.279562  0.362519  0.045527   0.395038   \nfree sulfur dioxide               0.720934  0.025717  0.144851   0.187900   \ntotal sulfur dioxide                   NaN  0.032395  0.236932   0.275190   \ndensity                                NaN       NaN  0.012061   0.259006   \npH                                     NaN       NaN       NaN   0.192513   \nsulphates                              NaN       NaN       NaN        NaN   \nalcohol                                NaN       NaN       NaN        NaN   \ntype_red                               NaN       NaN       NaN        NaN   \ntype_white                             NaN       NaN       NaN        NaN   \ndef_quality                            NaN       NaN       NaN        NaN   \n\n                       alcohol  type_red  type_white  def_quality  \nfixed acidity         0.096500  0.483683    0.483683     0.077916  \nvolatile acidity      0.036368  0.649296    0.649296     0.272926  \ncitric acid           0.012146  0.187785    0.187785     0.083929  \nresidual sugar        0.359403  0.347938    0.347938     0.009542  \nchlorides             0.256871  0.512675    0.512675     0.176085  \nfree sulfur dioxide   0.179838  0.471644    0.471644     0.067910  \ntotal sulfur dioxide  0.265740  0.700357    0.700357     0.025259  \ndensity               0.686745  0.390645    0.390645     0.250895  \npH                    0.121035  0.328199    0.328199     0.008584  \nsulphates             0.003237  0.486322    0.486322     0.031665  \nalcohol                    NaN  0.032970    0.032970     0.370796  \ntype_red                   NaN       NaN    1.000000     0.110400  \ntype_white                 NaN       NaN         NaN     0.110400  \ndef_quality                NaN       NaN         NaN          NaN  ",
      "text/html": "<div>\n<style scoped>\n    .dataframe tbody tr th:only-of-type {\n        vertical-align: middle;\n    }\n\n    .dataframe tbody tr th {\n        vertical-align: top;\n    }\n\n    .dataframe thead th {\n        text-align: right;\n    }\n</style>\n<table border=\"1\" class=\"dataframe\">\n  <thead>\n    <tr style=\"text-align: right;\">\n      <th></th>\n      <th>fixed acidity</th>\n      <th>volatile acidity</th>\n      <th>citric acid</th>\n      <th>residual sugar</th>\n      <th>chlorides</th>\n      <th>free sulfur dioxide</th>\n      <th>total sulfur dioxide</th>\n      <th>density</th>\n      <th>pH</th>\n      <th>sulphates</th>\n      <th>alcohol</th>\n      <th>type_red</th>\n      <th>type_white</th>\n      <th>def_quality</th>\n    </tr>\n  </thead>\n  <tbody>\n    <tr>\n      <th>fixed acidity</th>\n      <td>NaN</td>\n      <td>0.21503</td>\n      <td>0.318580</td>\n      <td>0.108756</td>\n      <td>0.295989</td>\n      <td>0.281483</td>\n      <td>0.326127</td>\n      <td>0.458993</td>\n      <td>0.250065</td>\n      <td>0.299075</td>\n      <td>0.096500</td>\n      <td>0.483683</td>\n      <td>0.483683</td>\n      <td>0.077916</td>\n    </tr>\n    <tr>\n      <th>volatile acidity</th>\n      <td>NaN</td>\n      <td>NaN</td>\n      <td>0.374039</td>\n      <td>0.197131</td>\n      <td>0.375245</td>\n      <td>0.350006</td>\n      <td>0.413496</td>\n      <td>0.268086</td>\n      <td>0.256210</td>\n      <td>0.225207</td>\n      <td>0.036368</td>\n      <td>0.649296</td>\n      <td>0.649296</td>\n      <td>0.272926</td>\n    </tr>\n    <tr>\n      <th>citric acid</th>\n      <td>NaN</td>\n      <td>NaN</td>\n      <td>NaN</td>\n      <td>0.142985</td>\n      <td>0.038160</td>\n      <td>0.133535</td>\n      <td>0.196442</td>\n      <td>0.096712</td>\n      <td>0.327373</td>\n      <td>0.054252</td>\n      <td>0.012146</td>\n      <td>0.187785</td>\n      <td>0.187785</td>\n      <td>0.083929</td>\n    </tr>\n    <tr>\n      <th>residual sugar</th>\n      <td>NaN</td>\n      <td>NaN</td>\n      <td>NaN</td>\n      <td>NaN</td>\n      <td>0.128975</td>\n      <td>0.402461</td>\n      <td>0.493412</td>\n      <td>0.549062</td>\n      <td>0.263197</td>\n      <td>0.184723</td>\n      <td>0.359403</td>\n      <td>0.347938</td>\n      <td>0.347938</td>\n      <td>0.009542</td>\n    </tr>\n    <tr>\n      <th>chlorides</th>\n      <td>NaN</td>\n      <td>NaN</td>\n      <td>NaN</td>\n      <td>NaN</td>\n      <td>NaN</td>\n      <td>0.194886</td>\n      <td>0.279562</td>\n      <td>0.362519</td>\n      <td>0.045527</td>\n      <td>0.395038</td>\n      <td>0.256871</td>\n      <td>0.512675</td>\n      <td>0.512675</td>\n      <td>0.176085</td>\n    </tr>\n    <tr>\n      <th>free sulfur dioxide</th>\n      <td>NaN</td>\n      <td>NaN</td>\n      <td>NaN</td>\n      <td>NaN</td>\n      <td>NaN</td>\n      <td>NaN</td>\n      <td>0.720934</td>\n      <td>0.025717</td>\n      <td>0.144851</td>\n      <td>0.187900</td>\n      <td>0.179838</td>\n      <td>0.471644</td>\n      <td>0.471644</td>\n      <td>0.067910</td>\n    </tr>\n    <tr>\n      <th>total sulfur dioxide</th>\n      <td>NaN</td>\n      <td>NaN</td>\n      <td>NaN</td>\n      <td>NaN</td>\n      <td>NaN</td>\n      <td>NaN</td>\n      <td>NaN</td>\n      <td>0.032395</td>\n      <td>0.236932</td>\n      <td>0.275190</td>\n      <td>0.265740</td>\n      <td>0.700357</td>\n      <td>0.700357</td>\n      <td>0.025259</td>\n    </tr>\n    <tr>\n      <th>density</th>\n      <td>NaN</td>\n      <td>NaN</td>\n      <td>NaN</td>\n      <td>NaN</td>\n      <td>NaN</td>\n      <td>NaN</td>\n      <td>NaN</td>\n      <td>NaN</td>\n      <td>0.012061</td>\n      <td>0.259006</td>\n      <td>0.686745</td>\n      <td>0.390645</td>\n      <td>0.390645</td>\n      <td>0.250895</td>\n    </tr>\n    <tr>\n      <th>pH</th>\n      <td>NaN</td>\n      <td>NaN</td>\n      <td>NaN</td>\n      <td>NaN</td>\n      <td>NaN</td>\n      <td>NaN</td>\n      <td>NaN</td>\n      <td>NaN</td>\n      <td>NaN</td>\n      <td>0.192513</td>\n      <td>0.121035</td>\n      <td>0.328199</td>\n      <td>0.328199</td>\n      <td>0.008584</td>\n    </tr>\n    <tr>\n      <th>sulphates</th>\n      <td>NaN</td>\n      <td>NaN</td>\n      <td>NaN</td>\n      <td>NaN</td>\n      <td>NaN</td>\n      <td>NaN</td>\n      <td>NaN</td>\n      <td>NaN</td>\n      <td>NaN</td>\n      <td>NaN</td>\n      <td>0.003237</td>\n      <td>0.486322</td>\n      <td>0.486322</td>\n      <td>0.031665</td>\n    </tr>\n    <tr>\n      <th>alcohol</th>\n      <td>NaN</td>\n      <td>NaN</td>\n      <td>NaN</td>\n      <td>NaN</td>\n      <td>NaN</td>\n      <td>NaN</td>\n      <td>NaN</td>\n      <td>NaN</td>\n      <td>NaN</td>\n      <td>NaN</td>\n      <td>NaN</td>\n      <td>0.032970</td>\n      <td>0.032970</td>\n      <td>0.370796</td>\n    </tr>\n    <tr>\n      <th>type_red</th>\n      <td>NaN</td>\n      <td>NaN</td>\n      <td>NaN</td>\n      <td>NaN</td>\n      <td>NaN</td>\n      <td>NaN</td>\n      <td>NaN</td>\n      <td>NaN</td>\n      <td>NaN</td>\n      <td>NaN</td>\n      <td>NaN</td>\n      <td>NaN</td>\n      <td>1.000000</td>\n      <td>0.110400</td>\n    </tr>\n    <tr>\n      <th>type_white</th>\n      <td>NaN</td>\n      <td>NaN</td>\n      <td>NaN</td>\n      <td>NaN</td>\n      <td>NaN</td>\n      <td>NaN</td>\n      <td>NaN</td>\n      <td>NaN</td>\n      <td>NaN</td>\n      <td>NaN</td>\n      <td>NaN</td>\n      <td>NaN</td>\n      <td>NaN</td>\n      <td>0.110400</td>\n    </tr>\n    <tr>\n      <th>def_quality</th>\n      <td>NaN</td>\n      <td>NaN</td>\n      <td>NaN</td>\n      <td>NaN</td>\n      <td>NaN</td>\n      <td>NaN</td>\n      <td>NaN</td>\n      <td>NaN</td>\n      <td>NaN</td>\n      <td>NaN</td>\n      <td>NaN</td>\n      <td>NaN</td>\n      <td>NaN</td>\n      <td>NaN</td>\n    </tr>\n  </tbody>\n</table>\n</div>"
     },
     "metadata": {},
     "output_type": "display_data"
    },
    {
     "name": "stdout",
     "output_type": "stream",
     "text": [
      "features to exclude['total sulfur dioxide', 'type_white']\n",
      "features to be kept ['fixed acidity', 'volatile acidity', 'citric acid', 'residual sugar', 'chlorides', 'free sulfur dioxide', 'density', 'pH', 'sulphates', 'alcohol', 'quality', 'type_red', 'def_quality']\n"
     ]
    }
   ],
   "source": [
    "## FEATURE SELECTION ##\n",
    "features = wine_df.loc[:, wine_df.columns != 'quality']\n",
    "cor = abs(features.corr())\n",
    "feature_cor_upper = cor.where(np.triu(np.ones(cor.shape), k=1).astype(bool))\n",
    "display(feature_cor_upper)\n",
    "features_to_exclude = [column for column in feature_cor_upper.columns if any(feature_cor_upper[column] > 0.71)]\n",
    "print(f\"features to exclude{features_to_exclude}\")\n",
    "# Find features to be kept\n",
    "features_to_be_kept = [feature for feature in wine_df.columns if feature not in features_to_exclude]\n",
    "print(f\"features to be kept {features_to_be_kept}\")\n",
    "# Drop features: drop all features that show a low correlation with the target variable and that are highly intercorrelated\n",
    "for column in wine_df.columns:\n",
    "    if column not in features_to_be_kept:\n",
    "        wine_df.drop(column, axis=1, inplace=True)\n",
    "\n"
   ],
   "metadata": {
    "collapsed": false,
    "ExecuteTime": {
     "end_time": "2023-11-15T08:54:39.663828800Z",
     "start_time": "2023-11-15T08:54:39.635733800Z"
    }
   }
  },
  {
   "cell_type": "markdown",
   "source": [
    "#### Classification with original target variable"
   ],
   "metadata": {
    "collapsed": false
   }
  },
  {
   "cell_type": "code",
   "execution_count": 28,
   "outputs": [
    {
     "name": "stdout",
     "output_type": "stream",
     "text": [
      "Accuracies with feature subset:\n",
      "XGBoost accuracy: 0.77\n",
      "RF accuracy: 0.7861538461538462\n",
      "\n"
     ]
    }
   ],
   "source": [
    "## CLASSIFY AFTER FEATURE SELECTION ##\n",
    "X = wine_df.drop(\"quality\", axis=1)\n",
    "y = wine_df[\"quality\"]\n",
    "y = y - 3 # remap labels from 3-9 to 0-6\n",
    "\n",
    "X_train, X_test, y_train, y_test = train_test_split(X, y, stratify=y, test_size=0.2, random_state=42)\n",
    "\n",
    "print(\"Accuracies with feature subset:\")\n",
    "run_clf(X_train, X_test, y_train, y_test)"
   ],
   "metadata": {
    "collapsed": false,
    "ExecuteTime": {
     "end_time": "2023-11-15T09:05:55.677555300Z",
     "start_time": "2023-11-15T09:05:48.997453500Z"
    }
   }
  },
  {
   "cell_type": "markdown",
   "source": [
    "#### Classification with binary categories"
   ],
   "metadata": {
    "collapsed": false
   }
  },
  {
   "cell_type": "code",
   "execution_count": 29,
   "outputs": [],
   "source": [
    "#define wine class [1 = 'Good Quality', 0 = 'Bad Quality']\n",
    "wine_df['def_quality'] = [0 if x < 7 else 1 for x in wine_df['quality']]# Separate feature variables and target variable\n",
    "X_binary = wine_df.drop(['quality','def_quality'], axis = 1)\n",
    "y_binary = wine_df['def_quality']"
   ],
   "metadata": {
    "collapsed": false,
    "ExecuteTime": {
     "end_time": "2023-11-15T09:05:55.730680100Z",
     "start_time": "2023-11-15T09:05:55.663077400Z"
    }
   }
  },
  {
   "cell_type": "code",
   "execution_count": 30,
   "outputs": [
    {
     "data": {
      "text/plain": "0    5220\n1    1277\nName: def_quality, dtype: int64"
     },
     "execution_count": 30,
     "metadata": {},
     "output_type": "execute_result"
    }
   ],
   "source": [
    "y_binary.value_counts()"
   ],
   "metadata": {
    "collapsed": false,
    "ExecuteTime": {
     "end_time": "2023-11-15T09:05:55.730680100Z",
     "start_time": "2023-11-15T09:05:55.677555300Z"
    }
   }
  },
  {
   "cell_type": "code",
   "execution_count": 31,
   "outputs": [
    {
     "name": "stdout",
     "output_type": "stream",
     "text": [
      "\n",
      "Accuracies with feature subset and binary classification:\n",
      "XGBoost accuracy: 0.8953846153846153\n",
      "RF accuracy: 0.8923076923076924\n",
      "\n"
     ]
    }
   ],
   "source": [
    "from sklearn.metrics import accuracy_score\n",
    "X_train, X_test, y_train, y_test = train_test_split(X_binary, y_binary, stratify=y_binary, test_size=0.2, random_state=42)\n",
    "\n",
    "print()\n",
    "print(\"Accuracies with feature subset and binary classification:\")\n",
    "run_bin_clf(X_train, X_test, y_train, y_test)"
   ],
   "metadata": {
    "collapsed": false,
    "ExecuteTime": {
     "end_time": "2023-11-15T09:05:58.144945900Z",
     "start_time": "2023-11-15T09:05:55.724152200Z"
    }
   }
  },
  {
   "cell_type": "markdown",
   "source": [
    "#### Classification with five categories"
   ],
   "metadata": {
    "collapsed": false
   }
  },
  {
   "cell_type": "code",
   "execution_count": 33,
   "outputs": [],
   "source": [
    "# 0-3: Very Bad (0) = 1 stars, 4: Bad (1) = 2 stars, 5: Mediocre (2) = 3 stars, 6-7: Good (3) = 4 stars, 8-10: Very Good (4) = 5 stars\n",
    "wine_df['def_quality'] = wine_df['def_quality'] = [0 if x < 4  else 1 if x==4 else 2 if x==5 else 3 if x <8  else 4 for x in wine_df['quality']]# Separate feature variables and target variable\n",
    "X_five = wine_df.drop(['quality','def_quality'], axis = 1)\n",
    "y_five = wine_df['def_quality']"
   ],
   "metadata": {
    "collapsed": false,
    "ExecuteTime": {
     "end_time": "2023-11-15T09:06:24.184428400Z",
     "start_time": "2023-11-15T09:06:24.160797Z"
    }
   }
  },
  {
   "cell_type": "code",
   "execution_count": 34,
   "outputs": [
    {
     "data": {
      "text/plain": "3    3915\n2    2138\n1     216\n4     198\n0      30\nName: def_quality, dtype: int64"
     },
     "execution_count": 34,
     "metadata": {},
     "output_type": "execute_result"
    }
   ],
   "source": [
    "y_five.value_counts()"
   ],
   "metadata": {
    "collapsed": false,
    "ExecuteTime": {
     "end_time": "2023-11-15T09:06:24.885446900Z",
     "start_time": "2023-11-15T09:06:24.862447500Z"
    }
   }
  },
  {
   "cell_type": "code",
   "execution_count": 35,
   "outputs": [],
   "source": [
    "from sklearn.metrics import accuracy_score\n",
    "X_train_five, X_test_five, y_train_five, y_test_five = train_test_split(X_five, y_five, stratify=y_five, test_size=0.2, random_state=42)\n"
   ],
   "metadata": {
    "collapsed": false,
    "ExecuteTime": {
     "end_time": "2023-11-15T09:06:26.359831500Z",
     "start_time": "2023-11-15T09:06:26.332253200Z"
    }
   }
  },
  {
   "cell_type": "code",
   "execution_count": 36,
   "outputs": [
    {
     "name": "stdout",
     "output_type": "stream",
     "text": [
      "\n",
      "Accuracies feature subset and five class classification:\n",
      "XGBoost accuracy: 0.7884615384615384\n",
      "RF accuracy: 0.7892307692307692\n",
      "\n"
     ]
    }
   ],
   "source": [
    "print()\n",
    "print(\"Accuracies feature subset and five class classification:\")\n",
    "run_clf(X_train_five, X_test_five, y_train_five, y_test_five)"
   ],
   "metadata": {
    "collapsed": false,
    "ExecuteTime": {
     "end_time": "2023-11-15T09:06:33.447807Z",
     "start_time": "2023-11-15T09:06:27.940751700Z"
    }
   }
  },
  {
   "cell_type": "markdown",
   "source": [
    "#### Hyperparameter Tuning"
   ],
   "metadata": {
    "collapsed": false
   }
  },
  {
   "cell_type": "code",
   "execution_count": 20,
   "outputs": [
    {
     "name": "stdout",
     "output_type": "stream",
     "text": [
      "Best set of hyperparameters:  {'learning_rate': 0.1, 'max_depth': 10, 'subsample': 0.7}\n",
      "Best score:  0.7623650699637224\n"
     ]
    }
   ],
   "source": [
    "## Hyperparameter tuning for XGBoost\n",
    "# https://medium.com/@rithpansanga/optimizing-xgboost-a-guide-to-hyperparameter-tuning-77b6e48e289d\n",
    "\n",
    "import xgboost as xgb\n",
    "from sklearn.model_selection import GridSearchCV\n",
    "\n",
    "# Define the hyperparameter grid\n",
    "param_grid = {\n",
    "    'max_depth': [3, 5, 7, 10],\n",
    "    'learning_rate': [0.1, 0.01, 0.001],\n",
    "    'subsample': [0.5, 0.7, 1]\n",
    "}\n",
    "\n",
    "# Create the XGBoost model object\n",
    "xgb_model = xgb.XGBClassifier()\n",
    "\n",
    "# Create the GridSearchCV object\n",
    "grid_search = GridSearchCV(xgb_model, param_grid, cv=5, scoring='accuracy')\n",
    "\n",
    "# Fit the GridSearchCV object to the training data\n",
    "grid_search.fit(X_train_five, y_train_five)\n",
    "\n",
    "# Print the best set of hyperparameters and the corresponding score\n",
    "print(\"Best set of hyperparameters: \", grid_search.best_params_)\n",
    "print(\"Best score: \", grid_search.best_score_)"
   ],
   "metadata": {
    "collapsed": false,
    "ExecuteTime": {
     "end_time": "2023-11-15T08:57:25.919884400Z",
     "start_time": "2023-11-15T08:55:18.779283Z"
    }
   }
  },
  {
   "cell_type": "code",
   "execution_count": 21,
   "outputs": [
    {
     "name": "stderr",
     "output_type": "stream",
     "text": [
      "C:\\Users\\marie\\Documents\\KTH\\Semester_3\\Period_2\\ID2223\\Assignment_1\\id2223-lab1\\venv\\lib\\site-packages\\xgboost\\core.py:726: FutureWarning: Pass `objective` as keyword args.\n",
      "  warnings.warn(msg, FutureWarning)\n"
     ]
    },
    {
     "name": "stdout",
     "output_type": "stream",
     "text": [
      "XGBoost accuracy: 0.7807692307692308\n"
     ]
    }
   ],
   "source": [
    "xgb_clf = xgb.XGBClassifier(grid_search.best_params_)\n",
    "\n",
    "# Train the classifier\n",
    "xgb_clf.fit(X_train_five, y_train_five)\n",
    "\n",
    "from sklearn.metrics import accuracy_score\n",
    "\n",
    "# Predictions on the test set\n",
    "xgb_y_pred = xgb_clf.predict(X_test_five)\n",
    "\n",
    "# Calculate the accuracy\n",
    "xgb_accuracy = accuracy_score(y_test_five, xgb_y_pred)\n",
    "print(\"XGBoost accuracy:\", xgb_accuracy)"
   ],
   "metadata": {
    "collapsed": false,
    "ExecuteTime": {
     "end_time": "2023-11-15T08:57:26.437046400Z",
     "start_time": "2023-11-15T08:57:25.917886900Z"
    }
   }
  },
  {
   "cell_type": "code",
   "execution_count": 22,
   "outputs": [
    {
     "name": "stderr",
     "output_type": "stream",
     "text": [
      "C:\\Users\\marie\\Documents\\KTH\\Semester_3\\Period_2\\ID2223\\Assignment_1\\id2223-lab1\\venv\\lib\\site-packages\\sklearn\\ensemble\\_forest.py:427: FutureWarning: `max_features='auto'` has been deprecated in 1.1 and will be removed in 1.3. To keep the past behaviour, explicitly set `max_features='sqrt'` or remove this parameter as it is also the default value for RandomForestClassifiers and ExtraTreesClassifiers.\n",
      "  warn(\n",
      "C:\\Users\\marie\\Documents\\KTH\\Semester_3\\Period_2\\ID2223\\Assignment_1\\id2223-lab1\\venv\\lib\\site-packages\\sklearn\\ensemble\\_forest.py:427: FutureWarning: `max_features='auto'` has been deprecated in 1.1 and will be removed in 1.3. To keep the past behaviour, explicitly set `max_features='sqrt'` or remove this parameter as it is also the default value for RandomForestClassifiers and ExtraTreesClassifiers.\n",
      "  warn(\n",
      "C:\\Users\\marie\\Documents\\KTH\\Semester_3\\Period_2\\ID2223\\Assignment_1\\id2223-lab1\\venv\\lib\\site-packages\\sklearn\\ensemble\\_forest.py:427: FutureWarning: `max_features='auto'` has been deprecated in 1.1 and will be removed in 1.3. To keep the past behaviour, explicitly set `max_features='sqrt'` or remove this parameter as it is also the default value for RandomForestClassifiers and ExtraTreesClassifiers.\n",
      "  warn(\n",
      "C:\\Users\\marie\\Documents\\KTH\\Semester_3\\Period_2\\ID2223\\Assignment_1\\id2223-lab1\\venv\\lib\\site-packages\\sklearn\\ensemble\\_forest.py:427: FutureWarning: `max_features='auto'` has been deprecated in 1.1 and will be removed in 1.3. To keep the past behaviour, explicitly set `max_features='sqrt'` or remove this parameter as it is also the default value for RandomForestClassifiers and ExtraTreesClassifiers.\n",
      "  warn(\n",
      "C:\\Users\\marie\\Documents\\KTH\\Semester_3\\Period_2\\ID2223\\Assignment_1\\id2223-lab1\\venv\\lib\\site-packages\\sklearn\\ensemble\\_forest.py:427: FutureWarning: `max_features='auto'` has been deprecated in 1.1 and will be removed in 1.3. To keep the past behaviour, explicitly set `max_features='sqrt'` or remove this parameter as it is also the default value for RandomForestClassifiers and ExtraTreesClassifiers.\n",
      "  warn(\n",
      "C:\\Users\\marie\\Documents\\KTH\\Semester_3\\Period_2\\ID2223\\Assignment_1\\id2223-lab1\\venv\\lib\\site-packages\\sklearn\\ensemble\\_forest.py:427: FutureWarning: `max_features='auto'` has been deprecated in 1.1 and will be removed in 1.3. To keep the past behaviour, explicitly set `max_features='sqrt'` or remove this parameter as it is also the default value for RandomForestClassifiers and ExtraTreesClassifiers.\n",
      "  warn(\n",
      "C:\\Users\\marie\\Documents\\KTH\\Semester_3\\Period_2\\ID2223\\Assignment_1\\id2223-lab1\\venv\\lib\\site-packages\\sklearn\\ensemble\\_forest.py:427: FutureWarning: `max_features='auto'` has been deprecated in 1.1 and will be removed in 1.3. To keep the past behaviour, explicitly set `max_features='sqrt'` or remove this parameter as it is also the default value for RandomForestClassifiers and ExtraTreesClassifiers.\n",
      "  warn(\n",
      "C:\\Users\\marie\\Documents\\KTH\\Semester_3\\Period_2\\ID2223\\Assignment_1\\id2223-lab1\\venv\\lib\\site-packages\\sklearn\\ensemble\\_forest.py:427: FutureWarning: `max_features='auto'` has been deprecated in 1.1 and will be removed in 1.3. To keep the past behaviour, explicitly set `max_features='sqrt'` or remove this parameter as it is also the default value for RandomForestClassifiers and ExtraTreesClassifiers.\n",
      "  warn(\n",
      "C:\\Users\\marie\\Documents\\KTH\\Semester_3\\Period_2\\ID2223\\Assignment_1\\id2223-lab1\\venv\\lib\\site-packages\\sklearn\\ensemble\\_forest.py:427: FutureWarning: `max_features='auto'` has been deprecated in 1.1 and will be removed in 1.3. To keep the past behaviour, explicitly set `max_features='sqrt'` or remove this parameter as it is also the default value for RandomForestClassifiers and ExtraTreesClassifiers.\n",
      "  warn(\n",
      "C:\\Users\\marie\\Documents\\KTH\\Semester_3\\Period_2\\ID2223\\Assignment_1\\id2223-lab1\\venv\\lib\\site-packages\\sklearn\\ensemble\\_forest.py:427: FutureWarning: `max_features='auto'` has been deprecated in 1.1 and will be removed in 1.3. To keep the past behaviour, explicitly set `max_features='sqrt'` or remove this parameter as it is also the default value for RandomForestClassifiers and ExtraTreesClassifiers.\n",
      "  warn(\n",
      "C:\\Users\\marie\\Documents\\KTH\\Semester_3\\Period_2\\ID2223\\Assignment_1\\id2223-lab1\\venv\\lib\\site-packages\\sklearn\\ensemble\\_forest.py:427: FutureWarning: `max_features='auto'` has been deprecated in 1.1 and will be removed in 1.3. To keep the past behaviour, explicitly set `max_features='sqrt'` or remove this parameter as it is also the default value for RandomForestClassifiers and ExtraTreesClassifiers.\n",
      "  warn(\n",
      "C:\\Users\\marie\\Documents\\KTH\\Semester_3\\Period_2\\ID2223\\Assignment_1\\id2223-lab1\\venv\\lib\\site-packages\\sklearn\\ensemble\\_forest.py:427: FutureWarning: `max_features='auto'` has been deprecated in 1.1 and will be removed in 1.3. To keep the past behaviour, explicitly set `max_features='sqrt'` or remove this parameter as it is also the default value for RandomForestClassifiers and ExtraTreesClassifiers.\n",
      "  warn(\n",
      "C:\\Users\\marie\\Documents\\KTH\\Semester_3\\Period_2\\ID2223\\Assignment_1\\id2223-lab1\\venv\\lib\\site-packages\\sklearn\\ensemble\\_forest.py:427: FutureWarning: `max_features='auto'` has been deprecated in 1.1 and will be removed in 1.3. To keep the past behaviour, explicitly set `max_features='sqrt'` or remove this parameter as it is also the default value for RandomForestClassifiers and ExtraTreesClassifiers.\n",
      "  warn(\n",
      "C:\\Users\\marie\\Documents\\KTH\\Semester_3\\Period_2\\ID2223\\Assignment_1\\id2223-lab1\\venv\\lib\\site-packages\\sklearn\\ensemble\\_forest.py:427: FutureWarning: `max_features='auto'` has been deprecated in 1.1 and will be removed in 1.3. To keep the past behaviour, explicitly set `max_features='sqrt'` or remove this parameter as it is also the default value for RandomForestClassifiers and ExtraTreesClassifiers.\n",
      "  warn(\n",
      "C:\\Users\\marie\\Documents\\KTH\\Semester_3\\Period_2\\ID2223\\Assignment_1\\id2223-lab1\\venv\\lib\\site-packages\\sklearn\\ensemble\\_forest.py:427: FutureWarning: `max_features='auto'` has been deprecated in 1.1 and will be removed in 1.3. To keep the past behaviour, explicitly set `max_features='sqrt'` or remove this parameter as it is also the default value for RandomForestClassifiers and ExtraTreesClassifiers.\n",
      "  warn(\n",
      "C:\\Users\\marie\\Documents\\KTH\\Semester_3\\Period_2\\ID2223\\Assignment_1\\id2223-lab1\\venv\\lib\\site-packages\\sklearn\\ensemble\\_forest.py:427: FutureWarning: `max_features='auto'` has been deprecated in 1.1 and will be removed in 1.3. To keep the past behaviour, explicitly set `max_features='sqrt'` or remove this parameter as it is also the default value for RandomForestClassifiers and ExtraTreesClassifiers.\n",
      "  warn(\n",
      "C:\\Users\\marie\\Documents\\KTH\\Semester_3\\Period_2\\ID2223\\Assignment_1\\id2223-lab1\\venv\\lib\\site-packages\\sklearn\\ensemble\\_forest.py:427: FutureWarning: `max_features='auto'` has been deprecated in 1.1 and will be removed in 1.3. To keep the past behaviour, explicitly set `max_features='sqrt'` or remove this parameter as it is also the default value for RandomForestClassifiers and ExtraTreesClassifiers.\n",
      "  warn(\n",
      "C:\\Users\\marie\\Documents\\KTH\\Semester_3\\Period_2\\ID2223\\Assignment_1\\id2223-lab1\\venv\\lib\\site-packages\\sklearn\\ensemble\\_forest.py:427: FutureWarning: `max_features='auto'` has been deprecated in 1.1 and will be removed in 1.3. To keep the past behaviour, explicitly set `max_features='sqrt'` or remove this parameter as it is also the default value for RandomForestClassifiers and ExtraTreesClassifiers.\n",
      "  warn(\n",
      "C:\\Users\\marie\\Documents\\KTH\\Semester_3\\Period_2\\ID2223\\Assignment_1\\id2223-lab1\\venv\\lib\\site-packages\\sklearn\\ensemble\\_forest.py:427: FutureWarning: `max_features='auto'` has been deprecated in 1.1 and will be removed in 1.3. To keep the past behaviour, explicitly set `max_features='sqrt'` or remove this parameter as it is also the default value for RandomForestClassifiers and ExtraTreesClassifiers.\n",
      "  warn(\n",
      "C:\\Users\\marie\\Documents\\KTH\\Semester_3\\Period_2\\ID2223\\Assignment_1\\id2223-lab1\\venv\\lib\\site-packages\\sklearn\\ensemble\\_forest.py:427: FutureWarning: `max_features='auto'` has been deprecated in 1.1 and will be removed in 1.3. To keep the past behaviour, explicitly set `max_features='sqrt'` or remove this parameter as it is also the default value for RandomForestClassifiers and ExtraTreesClassifiers.\n",
      "  warn(\n",
      "C:\\Users\\marie\\Documents\\KTH\\Semester_3\\Period_2\\ID2223\\Assignment_1\\id2223-lab1\\venv\\lib\\site-packages\\sklearn\\ensemble\\_forest.py:427: FutureWarning: `max_features='auto'` has been deprecated in 1.1 and will be removed in 1.3. To keep the past behaviour, explicitly set `max_features='sqrt'` or remove this parameter as it is also the default value for RandomForestClassifiers and ExtraTreesClassifiers.\n",
      "  warn(\n"
     ]
    },
    {
     "name": "stdout",
     "output_type": "stream",
     "text": [
      "Best set of hyperparameters:  {'max_depth': 10, 'max_features': 'auto'}\n",
      "Best score:  0.7377350633005109\n"
     ]
    }
   ],
   "source": [
    "## Hyperparameter tuning for RandomForest\n",
    "# https://medium.com/@rithpansanga/optimizing-xgboost-a-guide-to-hyperparameter-tuning-77b6e48e289d\n",
    "\n",
    "from sklearn.model_selection import GridSearchCV\n",
    "\n",
    "# Define the hyperparameter grid\n",
    "param_grid = {\n",
    "    'max_features': ['auto', 'sqrt', 'log2'],\n",
    "    'max_depth' : [3, 5, 7, 10]\n",
    "}\n",
    "\n",
    "## RANDOM FOREST ##\n",
    "# Initialize the RF classifier\n",
    "rf_clf = RandomForestClassifier(random_state=42)\n",
    "\n",
    "\n",
    "# Create the GridSearchCV object\n",
    "grid_search = GridSearchCV(rf_clf, param_grid, cv=5, scoring='accuracy')\n",
    "\n",
    "\n",
    "# Fit the GridSearchCV object to the training data\n",
    "grid_search.fit(X_train_five, y_train_five)\n",
    "\n",
    "# Print the best set of hyperparameters and the corresponding score\n",
    "print(\"Best set of hyperparameters: \", grid_search.best_params_)\n",
    "print(\"Best score: \", grid_search.best_score_)"
   ],
   "metadata": {
    "collapsed": false,
    "ExecuteTime": {
     "end_time": "2023-11-15T09:02:27.283792600Z",
     "start_time": "2023-11-15T08:57:26.440591700Z"
    }
   }
  },
  {
   "cell_type": "code",
   "execution_count": 23,
   "outputs": [
    {
     "name": "stderr",
     "output_type": "stream",
     "text": [
      "C:\\Users\\marie\\Documents\\KTH\\Semester_3\\Period_2\\ID2223\\Assignment_1\\id2223-lab1\\venv\\lib\\site-packages\\sklearn\\ensemble\\_forest.py:427: FutureWarning: `max_features='auto'` has been deprecated in 1.1 and will be removed in 1.3. To keep the past behaviour, explicitly set `max_features='sqrt'` or remove this parameter as it is also the default value for RandomForestClassifiers and ExtraTreesClassifiers.\n",
      "  warn(\n"
     ]
    },
    {
     "name": "stdout",
     "output_type": "stream",
     "text": [
      "RF accuracy: 0.7546153846153846\n",
      "\n"
     ]
    }
   ],
   "source": [
    "## RANDOM FOREST ##\n",
    "# Initialize the RF classifier\n",
    "rf_clf = RandomForestClassifier(max_depth=grid_search.best_params_['max_depth'], max_features=grid_search.best_params_['max_features'])\n",
    "\n",
    "# Train the classifier\n",
    "rf_clf.fit(X_train_five, y_train_five)\n",
    "\n",
    "# Predictions on the test set\n",
    "rf_y_pred = rf_clf.predict(X_test_five)\n",
    "\n",
    "# Calculate the accuracy\n",
    "rf_accuracy = accuracy_score(y_test_five, rf_y_pred)\n",
    "print(\"RF accuracy:\", rf_accuracy)\n",
    "\n",
    "print()\n"
   ],
   "metadata": {
    "collapsed": false,
    "ExecuteTime": {
     "end_time": "2023-11-15T09:02:28.070350900Z",
     "start_time": "2023-11-15T09:02:27.288750800Z"
    }
   }
  },
  {
   "cell_type": "markdown",
   "source": [
    "## Feature Selection with Most Important Features"
   ],
   "metadata": {
    "collapsed": false
   }
  },
  {
   "cell_type": "code",
   "execution_count": 158,
   "outputs": [
    {
     "data": {
      "text/plain": "3    567\n2    428\n4    216\n1     43\n5     39\n0      6\n6      1\nName: quality, dtype: int64"
     },
     "execution_count": 158,
     "metadata": {},
     "output_type": "execute_result"
    }
   ],
   "source": [
    "## split quality into good vs\n",
    "y_test.value_counts()"
   ],
   "metadata": {
    "collapsed": false,
    "ExecuteTime": {
     "end_time": "2023-11-11T13:51:22.066021400Z",
     "start_time": "2023-11-11T13:51:22.041787Z"
    }
   }
  },
  {
   "cell_type": "code",
   "execution_count": 261,
   "outputs": [
    {
     "data": {
      "text/plain": "fixed acidity       0.078026\ncitric acid         0.085780\ntype_white          0.119323\ntype_red            0.119323\nchlorides           0.200278\nvolatile acidity    0.264573\ndensity             0.305858\nalcohol             0.444319\nquality             1.000000\nName: quality, dtype: float64"
     },
     "metadata": {},
     "output_type": "display_data"
    },
    {
     "name": "stdout",
     "output_type": "stream",
     "text": [
      "Number of most important featuers: 8\n"
     ]
    }
   ],
   "source": [
    "# Checking for correlation between the important features\n",
    "# If features are highly intercorrelated, we should only keep one and drop the other\n",
    "# we should probably drop either red or white and maybe density since it is highly correlated with alcohol\n",
    "\n",
    "# Correlation with target variable quality\n",
    "cor = wine_df.corr()\n",
    "cor_quality = abs(cor[\"quality\"])\n",
    "\n",
    "threshold = 0.075\n",
    "\n",
    "# Selecting only features with correlation coefficient > threshold\n",
    "important_features = cor_quality[cor_quality > threshold].sort_values()\n",
    "display(important_features)\n",
    "print(f\"Number of most important featuers: {len(important_features) - 1}\")\n",
    "\n",
    "feature_cor = wine_df[list(important_features.iloc[:-1].index)].corr().abs()\n",
    "\n",
    "# Select upper triangle of correlation matrix\n",
    "feature_cor_upper = feature_cor.where(np.triu(np.ones(feature_cor.shape), k=1).astype(bool))\n",
    "\n",
    "# Find features with correlation greater than 0.95\n",
    "features_to_exclude = [column for column in feature_cor_upper.columns if any(feature_cor_upper[column] > 0.95)]\n",
    "\n",
    "# Find features to be kept\n",
    "features_to_be_kept = [feature for feature in important_features.index.to_list() if feature not in features_to_exclude]\n",
    "\n",
    "# Drop features: drop all features that show a low correlation with the target variable and that are highly intercorrelated\n",
    "for column in wine_df.columns:\n",
    "    if column not in features_to_be_kept:\n",
    "        wine_df.drop(column, axis=1, inplace=True)"
   ],
   "metadata": {
    "collapsed": false,
    "ExecuteTime": {
     "end_time": "2023-11-11T15:42:07.041701Z",
     "start_time": "2023-11-11T15:42:07.014237600Z"
    }
   }
  }
 ],
 "metadata": {
  "kernelspec": {
   "display_name": "Python 3",
   "language": "python",
   "name": "python3"
  },
  "language_info": {
   "codemirror_mode": {
    "name": "ipython",
    "version": 2
   },
   "file_extension": ".py",
   "mimetype": "text/x-python",
   "name": "python",
   "nbconvert_exporter": "python",
   "pygments_lexer": "ipython2",
   "version": "2.7.6"
  }
 },
 "nbformat": 4,
 "nbformat_minor": 0
}
