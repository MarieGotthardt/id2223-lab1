{
 "cells": [
  {
   "cell_type": "markdown",
   "metadata": {},
   "source": [
    "# SMOTEbook - Checking the Effects of SMOTE"
   ]
  },
  {
   "cell_type": "markdown",
   "metadata": {},
   "source": [
    "## Imports"
   ]
  },
  {
   "cell_type": "code",
   "execution_count": 172,
   "metadata": {},
   "outputs": [],
   "source": [
    "import pandas as pd\n",
    "import numpy as np\n",
    "import xgboost as xgb\n",
    "from sklearn.model_selection import train_test_split\n",
    "from imblearn.over_sampling import SMOTE\n",
    "from sklearn.metrics import accuracy_score\n",
    "import seaborn as sns\n",
    "sns.set_palette('husl')\n",
    "import matplotlib.pyplot as plt\n",
    "%matplotlib inline"
   ]
  },
  {
   "cell_type": "markdown",
   "metadata": {},
   "source": [
    "## Prepare data"
   ]
  },
  {
   "cell_type": "code",
   "execution_count": 173,
   "metadata": {},
   "outputs": [],
   "source": [
    "wine_df = pd.read_csv(\"../winequality.csv\")\n",
    "\n",
    "# Fill missing data with either random data or a category corresponding to \"Unknown\"\n",
    "for column in wine_df.columns:\n",
    "    if wine_df[column].isna().any() and pd.api.types.is_numeric_dtype(wine_df[column]):\n",
    "        wine_df.loc[wine_df[column].isna(), column] = [i for i in np.random.choice(range(round(wine_df[column].min()), round(wine_df[column]. max())), wine_df[column].isna().sum())]\n",
    "    elif wine_df[column].isna().any() and (pd.api.types.is_object_dtype(wine_df[column]) or pd.api.types.is_categorical_dtype(wine_df[column])):\n",
    "        wine_df[column].fillna(\"Unknown\")\n",
    "\n",
    "# Check for duplicates and drop duplicates\n",
    "wine_df.drop_duplicates(inplace=True)\n",
    "wine_df.reset_index(drop=True, inplace=True)\n",
    "\n",
    "# Transform categorical variables into numerical variables\n",
    "for column in wine_df.columns:\n",
    "    if pd.api.types.is_categorical_dtype(wine_df[column]) or pd.api.types.is_object_dtype(wine_df[column]):\n",
    "        one_hot = pd.get_dummies(wine_df[column], prefix=column)\n",
    "        wine_df = wine_df.drop(column, axis = 1)\n",
    "        wine_df = wine_df.join(one_hot)\n",
    "\n",
    "# One-hot encode wine type\n",
    "for column in wine_df.columns:\n",
    "    if pd.api.types.is_categorical_dtype(wine_df[column]) or pd.api.types.is_object_dtype(wine_df[column]):\n",
    "        one_hot = pd.get_dummies(wine_df[column], prefix=column)\n",
    "        wine_df = wine_df.drop(column, axis = 1)\n",
    "        wine_df = wine_df.join(one_hot)\n",
    "\n",
    "# Get correlations within the features\n",
    "features = wine_df.loc[:, wine_df.columns != 'quality']\n",
    "cor = abs(features.corr())\n",
    "\n",
    "# Get only upper half of the symmetric correlation matrix\n",
    "feature_cor_upper = cor.where(np.triu(np.ones(cor.shape), k=1).astype(bool))\n",
    "\n",
    "# Exclude features with a correlation coefficient that is higher than 0.7 to at least one other feature\n",
    "features_to_exclude = [column for column in feature_cor_upper.columns if any(feature_cor_upper[column] > 0.7)]\n",
    "\n",
    "# Find features to be kept\n",
    "features_to_be_kept = [feature for feature in wine_df.columns if feature not in features_to_exclude]\n",
    "\n",
    "# Drop features: drop all features that show a low correlation with the target variable and that are highly intercorrelated\n",
    "for column in wine_df.columns:\n",
    "    if column not in features_to_be_kept:\n",
    "        wine_df.drop(column, axis=1, inplace=True)\n",
    "\n",
    "\n",
    "# Initially, target values range from 3 to 9; we bin them into 5 categories and relabel them from 0 to 4\n",
    "# 0-3: Very Bad (0) = 1 stars, 4: Bad (1) = 2 stars, 5: Mediocre (2) = 3 stars, 6-7: Good (3) = 4 stars, 8-10: Very Good (4) = 5 stars\n",
    "wine_df['quality'] = [0 if x < 4  else 1 if x==4 else 2 if x==5 else 3 if x <8  else 4 for x in wine_df['quality']]\n",
    "\n",
    "\n",
    "\n",
    "# prepare data for training\n",
    "X = wine_df.drop(\"quality\", axis=1)\n",
    "y = wine_df[\"quality\"]\n",
    "\n",
    "# Split original data into train and test\n",
    "X_train, X_test, y_train, y_test = train_test_split(X, y, test_size=0.2, random_state=42)"
   ]
  },
  {
   "cell_type": "markdown",
   "metadata": {},
   "source": [
    "## Function for checking accuracy with XGBoost"
   ]
  },
  {
   "cell_type": "code",
   "execution_count": 174,
   "metadata": {},
   "outputs": [],
   "source": [
    "def run_clf(X_train, X_test, y_train, y_test):\n",
    "    ## XGBOOST ##\n",
    "    # Initialize the XGBoost classifier\n",
    "    xgb_clf = xgb.XGBClassifier()\n",
    "\n",
    "    # Train the classifier\n",
    "    xgb_clf.fit(X_train, y_train)\n",
    "\n",
    "    # Predictions on the test set\n",
    "    xgb_y_pred = xgb_clf.predict(X_test)\n",
    "\n",
    "    # Calculate the accuracy\n",
    "    xgb_accuracy = accuracy_score(y_test, xgb_y_pred)\n",
    "    print(\"XGBoost accuracy:\", xgb_accuracy)\n",
    "    print()"
   ]
  },
  {
   "cell_type": "markdown",
   "metadata": {},
   "source": [
    "## Before SMOTE"
   ]
  },
  {
   "cell_type": "code",
   "execution_count": 175,
   "metadata": {},
   "outputs": [
    {
     "data": {
      "text/plain": [
       "3    2554\n",
       "2    1396\n",
       "1     161\n",
       "4     130\n",
       "0      22\n",
       "Name: quality, dtype: int64"
      ]
     },
     "execution_count": 175,
     "metadata": {},
     "output_type": "execute_result"
    }
   ],
   "source": [
    "wine_df = pd.DataFrame(X_train, columns=wine_df.columns)\n",
    "wine_df['quality'] = y_train\n",
    "wine_df[\"quality\"].value_counts()"
   ]
  },
  {
   "cell_type": "code",
   "execution_count": 176,
   "metadata": {},
   "outputs": [
    {
     "data": {
      "text/plain": [
       "3    0.599109\n",
       "2    0.327469\n",
       "1    0.037767\n",
       "4    0.030495\n",
       "0    0.005161\n",
       "Name: quality, dtype: float64"
      ]
     },
     "execution_count": 176,
     "metadata": {},
     "output_type": "execute_result"
    }
   ],
   "source": [
    "wine_df[\"quality\"].value_counts(normalize=True) "
   ]
  },
  {
   "cell_type": "code",
   "execution_count": 177,
   "metadata": {},
   "outputs": [
    {
     "name": "stdout",
     "output_type": "stream",
     "text": [
      "Accuracy before SMOTE:\n"
     ]
    },
    {
     "name": "stdout",
     "output_type": "stream",
     "text": [
      "XGBoost accuracy: 0.6904315196998124\n",
      "\n"
     ]
    }
   ],
   "source": [
    "print(\"Accuracy before SMOTE:\")\n",
    "run_clf(X_train, X_test, y_train, y_test)"
   ]
  },
  {
   "cell_type": "markdown",
   "metadata": {},
   "source": [
    "## SMOTE"
   ]
  },
  {
   "cell_type": "code",
   "execution_count": 178,
   "metadata": {},
   "outputs": [],
   "source": [
    "from imblearn.over_sampling import SMOTE\n",
    "\n",
    "minority_class_size = y.value_counts().min()\n",
    "n_neighbors = min(minority_class_size - 1, 5)\n",
    "smote = SMOTE(k_neighbors=n_neighbors)\n",
    "\n",
    "# Resample training data\n",
    "X_resampled, y_resampled = smote.fit_resample(X_train, y_train)\n",
    "\n",
    "wine_df = pd.DataFrame(X_resampled, columns=wine_df.columns)\n",
    "wine_df['quality'] = y_resampled"
   ]
  },
  {
   "cell_type": "code",
   "execution_count": 179,
   "metadata": {},
   "outputs": [
    {
     "data": {
      "text/plain": [
       "3    2554\n",
       "2    2554\n",
       "1    2554\n",
       "4    2554\n",
       "0    2554\n",
       "Name: quality, dtype: int64"
      ]
     },
     "execution_count": 179,
     "metadata": {},
     "output_type": "execute_result"
    }
   ],
   "source": [
    "wine_df[\"quality\"].value_counts()"
   ]
  },
  {
   "cell_type": "code",
   "execution_count": 180,
   "metadata": {},
   "outputs": [
    {
     "data": {
      "text/plain": [
       "3    0.2\n",
       "2    0.2\n",
       "1    0.2\n",
       "4    0.2\n",
       "0    0.2\n",
       "Name: quality, dtype: float64"
      ]
     },
     "execution_count": 180,
     "metadata": {},
     "output_type": "execute_result"
    }
   ],
   "source": [
    "wine_df[\"quality\"].value_counts(normalize=True) "
   ]
  },
  {
   "cell_type": "code",
   "execution_count": 181,
   "metadata": {},
   "outputs": [
    {
     "name": "stdout",
     "output_type": "stream",
     "text": [
      "Accuracy when trained on SMOTE data:\n",
      "XGBoost accuracy: 0.6772983114446529\n",
      "\n"
     ]
    }
   ],
   "source": [
    "print(\"Accuracy when trained on SMOTE data:\")\n",
    "run_clf(X_resampled, X_test, y_resampled, y_test)"
   ]
  },
  {
   "cell_type": "markdown",
   "metadata": {},
   "source": [
    "## Adjust class distribution by removing data"
   ]
  },
  {
   "cell_type": "code",
   "execution_count": 182,
   "metadata": {},
   "outputs": [],
   "source": [
    "# Define a function to randomly drop samples from a specified class\n",
    "def drop_samples(dataframe, class_label, num_samples_to_drop):\n",
    "    # Filter the class\n",
    "    class_df = dataframe[dataframe['quality'] == class_label]\n",
    "    \n",
    "    # Randomly select samples to drop\n",
    "    drop_indices = np.random.choice(class_df.index, num_samples_to_drop, replace=False)\n",
    "    \n",
    "    # Drop the samples\n",
    "    return dataframe.drop(drop_indices)\n",
    "\n",
    "wine_df = drop_samples(wine_df, class_label=0, num_samples_to_drop=2000)\n",
    "wine_df = drop_samples(wine_df, class_label=4, num_samples_to_drop=1500)\n",
    "wine_df = drop_samples(wine_df, class_label=1, num_samples_to_drop=1000)\n",
    "wine_df = drop_samples(wine_df, class_label=2, num_samples_to_drop=500)"
   ]
  },
  {
   "cell_type": "code",
   "execution_count": 183,
   "metadata": {},
   "outputs": [
    {
     "data": {
      "text/plain": [
       "3    2554\n",
       "2    2054\n",
       "1    1554\n",
       "4    1054\n",
       "0     554\n",
       "Name: quality, dtype: int64"
      ]
     },
     "execution_count": 183,
     "metadata": {},
     "output_type": "execute_result"
    }
   ],
   "source": [
    "wine_df[\"quality\"].value_counts()"
   ]
  },
  {
   "cell_type": "code",
   "execution_count": 184,
   "metadata": {},
   "outputs": [
    {
     "data": {
      "text/plain": [
       "3    0.32870\n",
       "2    0.26435\n",
       "1    0.20000\n",
       "4    0.13565\n",
       "0    0.07130\n",
       "Name: quality, dtype: float64"
      ]
     },
     "execution_count": 184,
     "metadata": {},
     "output_type": "execute_result"
    }
   ],
   "source": [
    "wine_df[\"quality\"].value_counts(normalize=True) "
   ]
  },
  {
   "cell_type": "code",
   "execution_count": 185,
   "metadata": {},
   "outputs": [
    {
     "name": "stdout",
     "output_type": "stream",
     "text": [
      "Accuracy when trained on adjusted SMOTE data:\n",
      "XGBoost accuracy: 0.6801125703564728\n",
      "\n"
     ]
    }
   ],
   "source": [
    "X_adjusted = wine_df.drop(\"quality\", axis=1)\n",
    "y_adjusted = wine_df[\"quality\"]\n",
    "\n",
    "print(\"Accuracy when trained on adjusted SMOTE data:\")\n",
    "run_clf(X_adjusted, X_test, y_adjusted, y_test)"
   ]
  }
 ],
 "metadata": {
  "kernelspec": {
   "display_name": "id2223",
   "language": "python",
   "name": "python3"
  },
  "language_info": {
   "codemirror_mode": {
    "name": "ipython",
    "version": 3
   },
   "file_extension": ".py",
   "mimetype": "text/x-python",
   "name": "python",
   "nbconvert_exporter": "python",
   "pygments_lexer": "ipython3",
   "version": "3.8.18"
  }
 },
 "nbformat": 4,
 "nbformat_minor": 2
}
