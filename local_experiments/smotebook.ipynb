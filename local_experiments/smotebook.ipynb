{
 "cells": [
  {
   "cell_type": "markdown",
   "metadata": {},
   "source": [
    "# SMOTEbook - Checking the Effects of SMOTE"
   ]
  },
  {
   "cell_type": "markdown",
   "metadata": {},
   "source": [
    "## Imports"
   ]
  },
  {
   "cell_type": "code",
   "execution_count": 43,
   "metadata": {},
   "outputs": [],
   "source": [
    "import pandas as pd\n",
    "import numpy as np\n",
    "import xgboost as xgb\n",
    "from sklearn.model_selection import train_test_split\n",
    "from imblearn.over_sampling import SMOTE\n",
    "from sklearn.metrics import accuracy_score\n",
    "import seaborn as sns\n",
    "sns.set_palette('husl')\n",
    "import matplotlib.pyplot as plt\n",
    "%matplotlib inline"
   ]
  },
  {
   "cell_type": "markdown",
   "metadata": {},
   "source": [
    "## Prepare data"
   ]
  },
  {
   "cell_type": "code",
   "execution_count": 44,
   "metadata": {},
   "outputs": [],
   "source": [
    "wine_df = pd.read_csv(\"../winequality.csv\")\n",
    "\n",
    "# Fill missing data with either random data or a category corresponding to \"Unknown\"\n",
    "for column in wine_df.columns:\n",
    "    if wine_df[column].isna().any() and pd.api.types.is_numeric_dtype(wine_df[column]):\n",
    "        wine_df.loc[wine_df[column].isna(), column] = [i for i in np.random.choice(range(round(wine_df[column].min()), round(wine_df[column]. max())), wine_df[column].isna().sum())]\n",
    "    elif wine_df[column].isna().any() and (pd.api.types.is_object_dtype(wine_df[column]) or pd.api.types.is_categorical_dtype(wine_df[column])):\n",
    "        wine_df[column].fillna(\"Unknown\")\n",
    "\n",
    "# Check for duplicates and drop duplicates\n",
    "wine_df.drop_duplicates(inplace=True)\n",
    "wine_df.reset_index(drop=True, inplace=True)\n",
    "\n",
    "# Transform categorical variables into numerical variables\n",
    "for column in wine_df.columns:\n",
    "    if pd.api.types.is_categorical_dtype(wine_df[column]) or pd.api.types.is_object_dtype(wine_df[column]):\n",
    "        one_hot = pd.get_dummies(wine_df[column], prefix=column)\n",
    "        wine_df = wine_df.drop(column, axis = 1)\n",
    "        wine_df = wine_df.join(one_hot)\n",
    "\n",
    "# One-hot encode wine type\n",
    "for column in wine_df.columns:\n",
    "    if pd.api.types.is_categorical_dtype(wine_df[column]) or pd.api.types.is_object_dtype(wine_df[column]):\n",
    "        one_hot = pd.get_dummies(wine_df[column], prefix=column)\n",
    "        wine_df = wine_df.drop(column, axis = 1)\n",
    "        wine_df = wine_df.join(one_hot)\n",
    "\n",
    "# Get correlations within the features\n",
    "features = wine_df.loc[:, wine_df.columns != 'quality']\n",
    "cor = abs(features.corr())\n",
    "\n",
    "# Get only upper half of the symmetric correlation matrix\n",
    "feature_cor_upper = cor.where(np.triu(np.ones(cor.shape), k=1).astype(bool))\n",
    "\n",
    "# Exclude features with a correlation coefficient that is higher than 0.7 to at least one other feature\n",
    "features_to_exclude = [column for column in feature_cor_upper.columns if any(feature_cor_upper[column] > 0.7)]\n",
    "\n",
    "# Find features to be kept\n",
    "features_to_be_kept = [feature for feature in wine_df.columns if feature not in features_to_exclude]\n",
    "\n",
    "# Drop features: drop all features that show a low correlation with the target variable and that are highly intercorrelated\n",
    "for column in wine_df.columns:\n",
    "    if column not in features_to_be_kept:\n",
    "        wine_df.drop(column, axis=1, inplace=True)\n",
    "\n",
    "\n",
    "# Initially, target values range from 3 to 9; we bin them into 5 categories and relabel them from 0 to 4\n",
    "# 0-3: Very Bad (0) = 1 stars, 4: Bad (1) = 2 stars, 5: Mediocre (2) = 3 stars, 6-7: Good (3) = 4 stars, 8-10: Very Good (4) = 5 stars\n",
    "wine_df['quality'] = [0 if x < 4  else 1 if x==4 else 2 if x==5 else 3 if x <8  else 4 for x in wine_df['quality']]\n",
    "\n",
    "\n",
    "\n",
    "# prepare data for training\n",
    "X = wine_df.drop(\"quality\", axis=1)\n",
    "y = wine_df[\"quality\"]\n",
    "\n",
    "# Split original data into train and test\n",
    "X_train, X_test, y_train, y_test = train_test_split(X, y, test_size=0.1, random_state=42)"
   ]
  },
  {
   "cell_type": "markdown",
   "metadata": {},
   "source": [
    "## Function for checking accuracy with XGBoost"
   ]
  },
  {
   "cell_type": "code",
   "execution_count": 45,
   "metadata": {},
   "outputs": [],
   "source": [
    "def run_clf(X_train, X_test, y_train, y_test):\n",
    "    ## XGBOOST ##\n",
    "    # Initialize the XGBoost classifier\n",
    "    # using optimized hyperparameters determined in wine-training-pipeline\n",
    "    xgb_clf = xgb.XGBClassifier(learning_rate=0.1, max_depth=10, subsample=0.7)\n",
    "\n",
    "    # Train the classifier\n",
    "    xgb_clf.fit(X_train, y_train)\n",
    "\n",
    "    # Predictions on the test set\n",
    "    xgb_y_pred = xgb_clf.predict(X_test)\n",
    "\n",
    "    # Calculate the accuracy\n",
    "    xgb_accuracy = accuracy_score(y_test, xgb_y_pred)\n",
    "    print(\"XGBoost accuracy:\", xgb_accuracy)\n",
    "    print()"
   ]
  },
  {
   "cell_type": "markdown",
   "metadata": {},
   "source": [
    "## Before SMOTE"
   ]
  },
  {
   "cell_type": "code",
   "execution_count": 46,
   "metadata": {},
   "outputs": [
    {
     "data": {
      "text/plain": [
       "3    2873\n",
       "2    1572\n",
       "1     182\n",
       "4     144\n",
       "0      25\n",
       "Name: quality, dtype: int64"
      ]
     },
     "execution_count": 46,
     "metadata": {},
     "output_type": "execute_result"
    }
   ],
   "source": [
    "wine_df = pd.DataFrame(X_train, columns=wine_df.columns)\n",
    "wine_df['quality'] = y_train\n",
    "wine_df[\"quality\"].value_counts()"
   ]
  },
  {
   "cell_type": "code",
   "execution_count": 47,
   "metadata": {},
   "outputs": [
    {
     "data": {
      "text/plain": [
       "3    59.904087\n",
       "2    32.777314\n",
       "1     3.794829\n",
       "4     3.002502\n",
       "0     0.521268\n",
       "Name: quality, dtype: float64"
      ]
     },
     "execution_count": 47,
     "metadata": {},
     "output_type": "execute_result"
    }
   ],
   "source": [
    "wine_df[\"quality\"].value_counts(normalize=True) * 100"
   ]
  },
  {
   "cell_type": "code",
   "execution_count": 48,
   "metadata": {},
   "outputs": [
    {
     "name": "stdout",
     "output_type": "stream",
     "text": [
      "Accuracy before SMOTE:\n",
      "XGBoost accuracy: 0.6941838649155723\n",
      "\n"
     ]
    }
   ],
   "source": [
    "print(\"Accuracy before SMOTE:\")\n",
    "run_clf(X_train, X_test, y_train, y_test)"
   ]
  },
  {
   "cell_type": "markdown",
   "metadata": {},
   "source": [
    "## SMOTE"
   ]
  },
  {
   "cell_type": "code",
   "execution_count": 49,
   "metadata": {},
   "outputs": [],
   "source": [
    "from imblearn.over_sampling import SMOTE\n",
    "\n",
    "minority_class_size = y.value_counts().min()\n",
    "n_neighbors = min(minority_class_size - 1, 5)\n",
    "smote = SMOTE(k_neighbors=n_neighbors)\n",
    "\n",
    "# Resample training data\n",
    "X_resampled, y_resampled = smote.fit_resample(X_train, y_train)\n",
    "\n",
    "wine_df = pd.DataFrame(X_resampled, columns=wine_df.columns)\n",
    "wine_df['quality'] = y_resampled"
   ]
  },
  {
   "cell_type": "code",
   "execution_count": 50,
   "metadata": {},
   "outputs": [
    {
     "data": {
      "text/plain": [
       "3    2873\n",
       "2    2873\n",
       "1    2873\n",
       "4    2873\n",
       "0    2873\n",
       "Name: quality, dtype: int64"
      ]
     },
     "execution_count": 50,
     "metadata": {},
     "output_type": "execute_result"
    }
   ],
   "source": [
    "wine_df[\"quality\"].value_counts()"
   ]
  },
  {
   "cell_type": "code",
   "execution_count": 51,
   "metadata": {},
   "outputs": [
    {
     "data": {
      "text/plain": [
       "3    20.0\n",
       "2    20.0\n",
       "1    20.0\n",
       "4    20.0\n",
       "0    20.0\n",
       "Name: quality, dtype: float64"
      ]
     },
     "execution_count": 51,
     "metadata": {},
     "output_type": "execute_result"
    }
   ],
   "source": [
    "wine_df[\"quality\"].value_counts(normalize=True) * 100"
   ]
  },
  {
   "cell_type": "code",
   "execution_count": 52,
   "metadata": {},
   "outputs": [
    {
     "name": "stdout",
     "output_type": "stream",
     "text": [
      "Accuracy when trained on SMOTE data:\n",
      "XGBoost accuracy: 0.6697936210131332\n",
      "\n"
     ]
    }
   ],
   "source": [
    "print(\"Accuracy when trained on SMOTE data:\")\n",
    "run_clf(X_resampled, X_test, y_resampled, y_test)"
   ]
  },
  {
   "cell_type": "markdown",
   "metadata": {},
   "source": [
    "## Adjust class distribution by removing data"
   ]
  },
  {
   "cell_type": "code",
   "execution_count": 53,
   "metadata": {},
   "outputs": [],
   "source": [
    "# Define a function to randomly drop samples from a specified class\n",
    "def drop_samples(dataframe, class_label, num_samples_to_drop):\n",
    "    # Filter the class\n",
    "    class_df = dataframe[dataframe['quality'] == class_label]\n",
    "    \n",
    "    # Randomly select samples to drop\n",
    "    drop_indices = np.random.choice(class_df.index, num_samples_to_drop, replace=False)\n",
    "    \n",
    "    # Drop the samples\n",
    "    return dataframe.drop(drop_indices)\n",
    "\n",
    "wine_df = drop_samples(wine_df, class_label=2, num_samples_to_drop=500)\n",
    "wine_df = drop_samples(wine_df, class_label=1, num_samples_to_drop=1000)\n",
    "wine_df = drop_samples(wine_df, class_label=4, num_samples_to_drop=1500)\n",
    "wine_df = drop_samples(wine_df, class_label=0, num_samples_to_drop=2000)"
   ]
  },
  {
   "cell_type": "code",
   "execution_count": 54,
   "metadata": {},
   "outputs": [
    {
     "data": {
      "text/plain": [
       "3    2873\n",
       "2    2373\n",
       "1    1873\n",
       "4    1373\n",
       "0     873\n",
       "Name: quality, dtype: int64"
      ]
     },
     "execution_count": 54,
     "metadata": {},
     "output_type": "execute_result"
    }
   ],
   "source": [
    "wine_df[\"quality\"].value_counts()"
   ]
  },
  {
   "cell_type": "code",
   "execution_count": 55,
   "metadata": {},
   "outputs": [
    {
     "data": {
      "text/plain": [
       "3    30.678057\n",
       "2    25.339028\n",
       "1    20.000000\n",
       "4    14.660972\n",
       "0     9.321943\n",
       "Name: quality, dtype: float64"
      ]
     },
     "execution_count": 55,
     "metadata": {},
     "output_type": "execute_result"
    }
   ],
   "source": [
    "wine_df[\"quality\"].value_counts(normalize=True) * 100"
   ]
  },
  {
   "cell_type": "code",
   "execution_count": 56,
   "metadata": {},
   "outputs": [
    {
     "name": "stdout",
     "output_type": "stream",
     "text": [
      "Accuracy when trained on adjusted SMOTE data:\n",
      "XGBoost accuracy: 0.6848030018761726\n",
      "\n"
     ]
    }
   ],
   "source": [
    "X_adjusted = wine_df.drop(\"quality\", axis=1)\n",
    "y_adjusted = wine_df[\"quality\"]\n",
    "\n",
    "print(\"Accuracy when trained on adjusted SMOTE data:\")\n",
    "run_clf(X_adjusted, X_test, y_adjusted, y_test)"
   ]
  }
 ],
 "metadata": {
  "kernelspec": {
   "display_name": "id2223",
   "language": "python",
   "name": "python3"
  },
  "language_info": {
   "codemirror_mode": {
    "name": "ipython",
    "version": 3
   },
   "file_extension": ".py",
   "mimetype": "text/x-python",
   "name": "python",
   "nbconvert_exporter": "python",
   "pygments_lexer": "ipython3",
   "version": "3.8.18"
  }
 },
 "nbformat": 4,
 "nbformat_minor": 2
}
