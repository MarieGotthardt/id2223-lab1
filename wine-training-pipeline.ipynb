{
  "cells": [
    {
      "cell_type": "code",
      "execution_count": 3,
      "id": "063d9a22",
      "metadata": {
        "ExecuteTime": {
          "end_time": "2023-11-13T11:02:37.246879Z",
          "start_time": "2023-11-13T11:02:37.175347300Z"
        }
      },
      "outputs": [],
      "source": [
        "import hopsworks\n",
        "import pandas as pd\n",
        "from sklearn.neighbors import KNeighborsClassifier\n",
        "from sklearn.ensemble import RandomForestClassifier\n",
        "from xgboost import XGBClassifier\n",
        "from sklearn.preprocessing import LabelEncoder\n",
        "from numpy import loadtxt\n",
        "from sklearn.metrics import accuracy_score\n",
        "from sklearn.metrics import confusion_matrix\n",
        "from sklearn.metrics import classification_report\n",
        "import seaborn as sns\n",
        "from matplotlib import pyplot\n",
        "from hsml.schema import Schema\n",
        "from hsml.model_schema import ModelSchema\n",
        "import joblib\n",
        "import os\n",
        "from sklearn.model_selection import GridSearchCV"
      ]
    },
    {
      "cell_type": "code",
      "execution_count": 4,
      "id": "ca8d99df",
      "metadata": {
        "ExecuteTime": {
          "end_time": "2023-11-13T11:02:37.261878800Z",
          "start_time": "2023-11-13T11:02:37.187345300Z"
        }
      },
      "outputs": [
        {
          "name": "stdout",
          "output_type": "stream",
          "text": [
            "HOPSWORKS_API_KEY=YKloWFapPUWBLCPR.uhZrk6x2nayz4rY8qQRuMVftVqNJJW7KPfPMLXd78IzxyWHXe1wVC3pIBR8SrQha\n"
          ]
        }
      ],
      "source": [
        "import os\n",
        " \n",
        "for k, v in os.environ.items():\n",
        "    if \"HOPS\" in k:\n",
        "        print(f'{k}={v}')"
      ]
    },
    {
      "cell_type": "code",
      "execution_count": 5,
      "id": "5ce90341",
      "metadata": {
        "ExecuteTime": {
          "end_time": "2023-11-13T11:02:39.199331800Z",
          "start_time": "2023-11-13T11:02:37.200352Z"
        }
      },
      "outputs": [
        {
          "name": "stdout",
          "output_type": "stream",
          "text": [
            "Connected. Call `.close()` to terminate connection gracefully.\n",
            "\n",
            "Logged in to project, explore it here https://c.app.hopsworks.ai:443/p/187540\n",
            "Connected. Call `.close()` to terminate connection gracefully.\n"
          ]
        }
      ],
      "source": [
        "# You have to set the environment variable 'HOPSWORKS_API_KEY' for login to succeed\n",
        "project = hopsworks.login()\n",
        "fs = project.get_feature_store()\n"
      ]
    },
    {
      "cell_type": "code",
      "execution_count": 6,
      "id": "359ed7b3",
      "metadata": {
        "ExecuteTime": {
          "end_time": "2023-11-13T11:02:41.117041Z",
          "start_time": "2023-11-13T11:02:39.202341900Z"
        }
      },
      "outputs": [
        {
          "name": "stdout",
          "output_type": "stream",
          "text": [
            "Feature view created successfully, explore it at \n",
            "https://c.app.hopsworks.ai:443/p/187540/fs/187459/fv/wine_enriched_balanced/version/1\n"
          ]
        }
      ],
      "source": [
        "# The feature view is the input set of features for your model. The features can come from different feature groups.    \n",
        "# You can select features from different feature groups and join them together to create a feature view\n",
        "wine_fg = fs.get_feature_group(name=\"wine_enriched_balanced\", version=1)\n",
        "query = wine_fg.select_all()\n",
        "feature_view = fs.get_or_create_feature_view(name=\"wine_enriched_balanced\",\n",
        "                                  version=1,\n",
        "                                  description=\"Read from wine quality dataset\",\n",
        "                                  labels=[\"quality\"],\n",
        "                                  query=query)"
      ]
    },
    {
      "cell_type": "code",
      "execution_count": 8,
      "metadata": {
        "ExecuteTime": {
          "end_time": "2023-11-13T11:06:43.917472100Z",
          "start_time": "2023-11-13T11:03:13.032951Z"
        },
        "collapsed": false
      },
      "outputs": [
        {
          "name": "stdout",
          "output_type": "stream",
          "text": [
            "Finished: Reading data from Hopsworks, using ArrowFlight (1.54s) \n"
          ]
        },
        {
          "name": "stderr",
          "output_type": "stream",
          "text": [
            "VersionWarning: Incremented version to `2`.\n",
            "FutureWarning: Pass `objective` as keyword args.\n"
          ]
        },
        {
          "data": {
            "text/html": [
              "<style>#sk-container-id-1 {color: black;background-color: white;}#sk-container-id-1 pre{padding: 0;}#sk-container-id-1 div.sk-toggleable {background-color: white;}#sk-container-id-1 label.sk-toggleable__label {cursor: pointer;display: block;width: 100%;margin-bottom: 0;padding: 0.3em;box-sizing: border-box;text-align: center;}#sk-container-id-1 label.sk-toggleable__label-arrow:before {content: \"▸\";float: left;margin-right: 0.25em;color: #696969;}#sk-container-id-1 label.sk-toggleable__label-arrow:hover:before {color: black;}#sk-container-id-1 div.sk-estimator:hover label.sk-toggleable__label-arrow:before {color: black;}#sk-container-id-1 div.sk-toggleable__content {max-height: 0;max-width: 0;overflow: hidden;text-align: left;background-color: #f0f8ff;}#sk-container-id-1 div.sk-toggleable__content pre {margin: 0.2em;color: black;border-radius: 0.25em;background-color: #f0f8ff;}#sk-container-id-1 input.sk-toggleable__control:checked~div.sk-toggleable__content {max-height: 200px;max-width: 100%;overflow: auto;}#sk-container-id-1 input.sk-toggleable__control:checked~label.sk-toggleable__label-arrow:before {content: \"▾\";}#sk-container-id-1 div.sk-estimator input.sk-toggleable__control:checked~label.sk-toggleable__label {background-color: #d4ebff;}#sk-container-id-1 div.sk-label input.sk-toggleable__control:checked~label.sk-toggleable__label {background-color: #d4ebff;}#sk-container-id-1 input.sk-hidden--visually {border: 0;clip: rect(1px 1px 1px 1px);clip: rect(1px, 1px, 1px, 1px);height: 1px;margin: -1px;overflow: hidden;padding: 0;position: absolute;width: 1px;}#sk-container-id-1 div.sk-estimator {font-family: monospace;background-color: #f0f8ff;border: 1px dotted black;border-radius: 0.25em;box-sizing: border-box;margin-bottom: 0.5em;}#sk-container-id-1 div.sk-estimator:hover {background-color: #d4ebff;}#sk-container-id-1 div.sk-parallel-item::after {content: \"\";width: 100%;border-bottom: 1px solid gray;flex-grow: 1;}#sk-container-id-1 div.sk-label:hover label.sk-toggleable__label {background-color: #d4ebff;}#sk-container-id-1 div.sk-serial::before {content: \"\";position: absolute;border-left: 1px solid gray;box-sizing: border-box;top: 0;bottom: 0;left: 50%;z-index: 0;}#sk-container-id-1 div.sk-serial {display: flex;flex-direction: column;align-items: center;background-color: white;padding-right: 0.2em;padding-left: 0.2em;position: relative;}#sk-container-id-1 div.sk-item {position: relative;z-index: 1;}#sk-container-id-1 div.sk-parallel {display: flex;align-items: stretch;justify-content: center;background-color: white;position: relative;}#sk-container-id-1 div.sk-item::before, #sk-container-id-1 div.sk-parallel-item::before {content: \"\";position: absolute;border-left: 1px solid gray;box-sizing: border-box;top: 0;bottom: 0;left: 50%;z-index: -1;}#sk-container-id-1 div.sk-parallel-item {display: flex;flex-direction: column;z-index: 1;position: relative;background-color: white;}#sk-container-id-1 div.sk-parallel-item:first-child::after {align-self: flex-end;width: 50%;}#sk-container-id-1 div.sk-parallel-item:last-child::after {align-self: flex-start;width: 50%;}#sk-container-id-1 div.sk-parallel-item:only-child::after {width: 0;}#sk-container-id-1 div.sk-dashed-wrapped {border: 1px dashed gray;margin: 0 0.4em 0.5em 0.4em;box-sizing: border-box;padding-bottom: 0.4em;background-color: white;}#sk-container-id-1 div.sk-label label {font-family: monospace;font-weight: bold;display: inline-block;line-height: 1.2em;}#sk-container-id-1 div.sk-label-container {text-align: center;}#sk-container-id-1 div.sk-container {/* jupyter's `normalize.less` sets `[hidden] { display: none; }` but bootstrap.min.css set `[hidden] { display: none !important; }` so we also need the `!important` here to be able to override the default hidden behavior on the sphinx rendered scikit-learn.org. See: https://github.com/scikit-learn/scikit-learn/issues/21755 */display: inline-block !important;position: relative;}#sk-container-id-1 div.sk-text-repr-fallback {display: none;}</style><div id=\"sk-container-id-1\" class=\"sk-top-container\"><div class=\"sk-text-repr-fallback\"><pre>XGBClassifier(base_score=None, booster=None, callbacks=None,\n",
              "              colsample_bylevel=None, colsample_bynode=None,\n",
              "              colsample_bytree=None, device=None, early_stopping_rounds=None,\n",
              "              enable_categorical=False, eval_metric=None, feature_types=None,\n",
              "              gamma=None, grow_policy=None, importance_type=None,\n",
              "              interaction_constraints=None, learning_rate=None, max_bin=None,\n",
              "              max_cat_threshold=None, max_cat_to_onehot=None,\n",
              "              max_delta_step=None, max_depth=None, max_leaves=None,\n",
              "              min_child_weight=None, missing=nan, monotone_constraints=None,\n",
              "              multi_strategy=None, n_estimators=None, n_jobs=None,\n",
              "              num_parallel_tree=None, objective=&#x27;multi:softprob&#x27;, ...)</pre><b>In a Jupyter environment, please rerun this cell to show the HTML representation or trust the notebook. <br />On GitHub, the HTML representation is unable to render, please try loading this page with nbviewer.org.</b></div><div class=\"sk-container\" hidden><div class=\"sk-item\"><div class=\"sk-estimator sk-toggleable\"><input class=\"sk-toggleable__control sk-hidden--visually\" id=\"sk-estimator-id-1\" type=\"checkbox\" checked><label for=\"sk-estimator-id-1\" class=\"sk-toggleable__label sk-toggleable__label-arrow\">XGBClassifier</label><div class=\"sk-toggleable__content\"><pre>XGBClassifier(base_score=None, booster=None, callbacks=None,\n",
              "              colsample_bylevel=None, colsample_bynode=None,\n",
              "              colsample_bytree=None, device=None, early_stopping_rounds=None,\n",
              "              enable_categorical=False, eval_metric=None, feature_types=None,\n",
              "              gamma=None, grow_policy=None, importance_type=None,\n",
              "              interaction_constraints=None, learning_rate=None, max_bin=None,\n",
              "              max_cat_threshold=None, max_cat_to_onehot=None,\n",
              "              max_delta_step=None, max_depth=None, max_leaves=None,\n",
              "              min_child_weight=None, missing=nan, monotone_constraints=None,\n",
              "              multi_strategy=None, n_estimators=None, n_jobs=None,\n",
              "              num_parallel_tree=None, objective=&#x27;multi:softprob&#x27;, ...)</pre></div></div></div></div></div>"
            ],
            "text/plain": [
              "XGBClassifier(base_score=None, booster=None, callbacks=None,\n",
              "              colsample_bylevel=None, colsample_bynode=None,\n",
              "              colsample_bytree=None, device=None, early_stopping_rounds=None,\n",
              "              enable_categorical=False, eval_metric=None, feature_types=None,\n",
              "              gamma=None, grow_policy=None, importance_type=None,\n",
              "              interaction_constraints=None, learning_rate=None, max_bin=None,\n",
              "              max_cat_threshold=None, max_cat_to_onehot=None,\n",
              "              max_delta_step=None, max_depth=None, max_leaves=None,\n",
              "              min_child_weight=None, missing=nan, monotone_constraints=None,\n",
              "              multi_strategy=None, n_estimators=None, n_jobs=None,\n",
              "              num_parallel_tree=None, objective='multi:softprob', ...)"
            ]
          },
          "execution_count": 8,
          "metadata": {},
          "output_type": "execute_result"
        }
      ],
      "source": [
        "# You can read training data, randomly split into train/test sets of features (X) and labels (y)\n",
        "X_train, X_test, y_train, y_test = feature_view.train_test_split(0.2)\n",
        "\n",
        "\n",
        "# Define the hyperparameter grid\n",
        "param_grid = {\n",
        "    'max_depth': [3, 5, 7, 10],\n",
        "    'learning_rate': [0.1, 0.01, 0.001],\n",
        "    'subsample': [0.5, 0.7, 1]\n",
        "}\n",
        "\n",
        "# Create the XGBoost model object for grid search\n",
        "search_model = XGBClassifier()\n",
        "\n",
        "# Create the GridSearchCV object\n",
        "grid_search = GridSearchCV(search_model, param_grid, cv=5, scoring='accuracy')\n",
        "\n",
        "# Fit the GridSearchCV object to the training data\n",
        "grid_search.fit(X_train, y_train)\n",
        "\n",
        "# Train our model with the Scikit-learn Random Forest  using our features (X_train) and labels (y_train)\n",
        "#model = RandomForestClassifier(n_estimators=25, criterion='gini')\n",
        "model = XGBClassifier(grid_search.best_params_)\n",
        "model.fit(X_train, y_train.values.ravel())\n",
        "\n",
        "\n"
      ]
    },
    {
      "cell_type": "code",
      "execution_count": 9,
      "id": "77aa0aee",
      "metadata": {
        "ExecuteTime": {
          "end_time": "2023-11-13T11:06:50.814363300Z",
          "start_time": "2023-11-13T11:06:50.782855100Z"
        }
      },
      "outputs": [],
      "source": [
        "# Evaluate model performance using the features from the test set (X_test)\n",
        "y_pred = model.predict(X_test)\n",
        "\n",
        "# Compare predictions (y_pred) with the labels in the test set (y_test)\n",
        "metrics = classification_report(y_test, y_pred, output_dict=True)\n",
        "results = confusion_matrix(y_test, y_pred)"
      ]
    },
    {
      "cell_type": "code",
      "execution_count": 11,
      "id": "4d944032",
      "metadata": {
        "ExecuteTime": {
          "end_time": "2023-11-13T11:07:02.153981100Z",
          "start_time": "2023-11-13T11:07:01.927713500Z"
        }
      },
      "outputs": [
        {
          "data": {
            "image/png": "[encoded data removed]",
            "text/plain": [
              "<Figure size 640x480 with 2 Axes>"
            ]
          },
          "metadata": {},
          "output_type": "display_data"
        }
      ],
      "source": [
        "# Create the confusion matrix as a figure, we will later store it as a PNG image file\n",
        "true_labels = [f'True {int(i)}' for i in range(0,5)]\n",
        "pred_labels = [f'Pred {int(i)}' for i in range(0,5)]\n",
        "df_cm = pd.DataFrame(results, true_labels, pred_labels)\n",
        "cm = sns.heatmap(df_cm, annot=True, fmt='g')\n",
        "fig = cm.get_figure()"
      ]
    },
    {
      "cell_type": "code",
      "execution_count": 12,
      "id": "bcfdfc4f",
      "metadata": {
        "ExecuteTime": {
          "end_time": "2023-11-13T11:08:26.168535900Z",
          "start_time": "2023-11-13T11:07:09.119421100Z"
        }
      },
      "outputs": [
        {
          "name": "stdout",
          "output_type": "stream",
          "text": [
            "Connected. Call `.close()` to terminate connection gracefully.\n"
          ]
        },
        {
          "data": {
            "application/vnd.jupyter.widget-view+json": {
              "model_id": "053e301d8acc4f5f92316897a598e7b7",
              "version_major": 2,
              "version_minor": 0
            },
            "text/plain": [
              "  0%|          | 0/6 [00:00<?, ?it/s]"
            ]
          },
          "metadata": {},
          "output_type": "display_data"
        },
        {
          "name": "stdout",
          "output_type": "stream",
          "text": [
            "Model created, explore it at https://c.app.hopsworks.ai:443/p/187540/models/wine_model/6\n"
          ]
        },
        {
          "data": {
            "text/plain": [
              "Model(name: 'wine_model', version: 6)"
            ]
          },
          "execution_count": 12,
          "metadata": {},
          "output_type": "execute_result"
        }
      ],
      "source": [
        "# We will now upload our model to the Hopsworks Model Registry. First get an object for the model registry.\n",
        "mr = project.get_model_registry()\n",
        "\n",
        "# The contents of the 'wine_model' directory will be saved to the model registry. Create the dir, first.\n",
        "model_dir=\"wine_model\"\n",
        "if os.path.isdir(model_dir) == False:\n",
        "    os.mkdir(model_dir)\n",
        "\n",
        "# Save both our model and the confusion matrix to 'model_dir', whose contents will be uploaded to the model registry\n",
        "joblib.dump(model, model_dir + \"/wine_model.pkl\")\n",
        "fig.savefig(model_dir + \"/confusion_matrix.png\")    \n",
        "\n",
        "# Specify the schema of the model's input/output using the features (X_train) and labels (y_train)\n",
        "input_schema = Schema(X_train)\n",
        "output_schema = Schema(y_train)\n",
        "model_schema = ModelSchema(input_schema, output_schema)\n",
        "\n",
        "# Create an entry in the model registry that includes the model's name, desc, metrics\n",
        "wine_model = mr.python.create_model(\n",
        "    name=\"wine_model\", \n",
        "    metrics={\"accuracy\" : metrics['accuracy']},\n",
        "    model_schema=model_schema,\n",
        "    description=\"Wine Quality Predictor\"\n",
        ")\n",
        "\n",
        "# Upload the model to the model registry, including all files in 'model_dir'\n",
        "wine_model.save(model_dir)"
      ]
    },
    {
      "cell_type": "code",
      "execution_count": null,
      "id": "f707b056",
      "metadata": {},
      "outputs": [],
      "source": []
    }
  ],
  "metadata": {
    "kernelspec": {
      "display_name": "Python 3 (ipykernel)",
      "language": "python",
      "name": "python3"
    },
    "language_info": {
      "codemirror_mode": {
        "name": "ipython",
        "version": 3
      },
      "file_extension": ".py",
      "mimetype": "text/x-python",
      "name": "python",
      "nbconvert_exporter": "python",
      "pygments_lexer": "ipython3",
      "version": "3.8.18"
    }
  },
  "nbformat": 4,
  "nbformat_minor": 5
}
