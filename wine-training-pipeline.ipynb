{
 "cells": [
  {
   "cell_type": "code",
   "execution_count": 22,
   "id": "063d9a22",
   "metadata": {
    "ExecuteTime": {
     "end_time": "2023-11-11T08:06:21.955845400Z",
     "start_time": "2023-11-11T08:06:21.939926900Z"
    }
   },
   "outputs": [],
   "source": [
    "import hopsworks\n",
    "import pandas as pd\n",
    "from sklearn.neighbors import KNeighborsClassifier\n",
    "from sklearn.ensemble import RandomForestClassifier\n",
    "from xgboost import XGBClassifier\n",
    "from sklearn.preprocessing import LabelEncoder\n",
    "from numpy import loadtxt\n",
    "from sklearn.metrics import accuracy_score\n",
    "from sklearn.metrics import confusion_matrix\n",
    "from sklearn.metrics import classification_report\n",
    "import seaborn as sns\n",
    "from matplotlib import pyplot\n",
    "from hsml.schema import Schema\n",
    "from hsml.model_schema import ModelSchema\n",
    "import joblib\n",
    "import os"
   ]
  },
  {
   "cell_type": "code",
   "execution_count": 23,
   "id": "ca8d99df",
   "metadata": {
    "ExecuteTime": {
     "end_time": "2023-11-11T08:06:21.997355900Z",
     "start_time": "2023-11-11T08:06:21.957079500Z"
    }
   },
   "outputs": [
    {
     "name": "stdout",
     "output_type": "stream",
     "text": [
      "HOPSWORKS_API_KEY=YKloWFapPUWBLCPR.uhZrk6x2nayz4rY8qQRuMVftVqNJJW7KPfPMLXd78IzxyWHXe1wVC3pIBR8SrQha\n"
     ]
    }
   ],
   "source": [
    "import os\n",
    " \n",
    "for k, v in os.environ.items():\n",
    "    if \"HOPS\" in k:\n",
    "        print(f'{k}={v}')"
   ]
  },
  {
   "cell_type": "code",
   "execution_count": 24,
   "id": "5ce90341",
   "metadata": {
    "ExecuteTime": {
     "end_time": "2023-11-11T08:06:23.961553400Z",
     "start_time": "2023-11-11T08:06:21.973183600Z"
    }
   },
   "outputs": [
    {
     "name": "stdout",
     "output_type": "stream",
     "text": [
      "Connection closed.\n",
      "Connected. Call `.close()` to terminate connection gracefully.\n",
      "\n",
      "Logged in to project, explore it here https://c.app.hopsworks.ai:443/p/187540\n",
      "Connected. Call `.close()` to terminate connection gracefully.\n"
     ]
    }
   ],
   "source": [
    "# You have to set the environment variable 'HOPSWORKS_API_KEY' for login to succeed\n",
    "project = hopsworks.login()\n",
    "fs = project.get_feature_store()\n"
   ]
  },
  {
   "cell_type": "code",
   "execution_count": 25,
   "id": "359ed7b3",
   "metadata": {
    "ExecuteTime": {
     "end_time": "2023-11-11T08:06:24.538612100Z",
     "start_time": "2023-11-11T08:06:23.962552200Z"
    }
   },
   "outputs": [
    {
     "ename": "ValueError",
     "evalue": "Cannot get back the feature view because the query defined is no longer valid. Some feature groups used in the query may have been deleted. You can clean up this feature view on the UI or `FeatureView.clean`.",
     "output_type": "error",
     "traceback": [
      "\u001B[1;31m---------------------------------------------------------------------------\u001B[0m",
      "\u001B[1;31mRestAPIError\u001B[0m                              Traceback (most recent call last)",
      "File \u001B[1;32m~\\Documents\\KTH\\Semester_3\\Period_2\\ID2223\\Assignment_1\\id2223-lab1\\venv\\lib\\site-packages\\hsfs\\core\\feature_view_api.py:101\u001B[0m, in \u001B[0;36mFeatureViewApi.get_by_name_version\u001B[1;34m(self, name, version)\u001B[0m\n\u001B[0;32m     99\u001B[0m \u001B[38;5;28;01mtry\u001B[39;00m:\n\u001B[0;32m    100\u001B[0m     \u001B[38;5;28;01mreturn\u001B[39;00m feature_view\u001B[38;5;241m.\u001B[39mFeatureView\u001B[38;5;241m.\u001B[39mfrom_response_json(\n\u001B[1;32m--> 101\u001B[0m         \u001B[38;5;28;43mself\u001B[39;49m\u001B[38;5;241;43m.\u001B[39;49m\u001B[43m_client\u001B[49m\u001B[38;5;241;43m.\u001B[39;49m\u001B[43m_send_request\u001B[49m\u001B[43m(\u001B[49m\n\u001B[0;32m    102\u001B[0m \u001B[43m            \u001B[49m\u001B[38;5;28;43mself\u001B[39;49m\u001B[38;5;241;43m.\u001B[39;49m\u001B[43m_GET\u001B[49m\u001B[43m,\u001B[49m\u001B[43m \u001B[49m\u001B[43mpath\u001B[49m\u001B[43m,\u001B[49m\u001B[43m \u001B[49m\u001B[43m{\u001B[49m\u001B[38;5;124;43m\"\u001B[39;49m\u001B[38;5;124;43mexpand\u001B[39;49m\u001B[38;5;124;43m\"\u001B[39;49m\u001B[43m:\u001B[49m\u001B[43m \u001B[49m\u001B[43m[\u001B[49m\u001B[38;5;124;43m\"\u001B[39;49m\u001B[38;5;124;43mquery\u001B[39;49m\u001B[38;5;124;43m\"\u001B[39;49m\u001B[43m,\u001B[49m\u001B[43m \u001B[49m\u001B[38;5;124;43m\"\u001B[39;49m\u001B[38;5;124;43mfeatures\u001B[39;49m\u001B[38;5;124;43m\"\u001B[39;49m\u001B[43m]\u001B[49m\u001B[43m}\u001B[49m\n\u001B[0;32m    103\u001B[0m \u001B[43m        \u001B[49m\u001B[43m)\u001B[49m\n\u001B[0;32m    104\u001B[0m     )\n\u001B[0;32m    105\u001B[0m \u001B[38;5;28;01mexcept\u001B[39;00m RestAPIError \u001B[38;5;28;01mas\u001B[39;00m e:\n",
      "File \u001B[1;32m~\\Documents\\KTH\\Semester_3\\Period_2\\ID2223\\Assignment_1\\id2223-lab1\\venv\\lib\\site-packages\\hsfs\\decorators.py:35\u001B[0m, in \u001B[0;36mconnected.<locals>.if_connected\u001B[1;34m(inst, *args, **kwargs)\u001B[0m\n\u001B[0;32m     34\u001B[0m     \u001B[38;5;28;01mraise\u001B[39;00m NoHopsworksConnectionError\n\u001B[1;32m---> 35\u001B[0m \u001B[38;5;28;01mreturn\u001B[39;00m \u001B[43mfn\u001B[49m\u001B[43m(\u001B[49m\u001B[43minst\u001B[49m\u001B[43m,\u001B[49m\u001B[43m \u001B[49m\u001B[38;5;241;43m*\u001B[39;49m\u001B[43margs\u001B[49m\u001B[43m,\u001B[49m\u001B[43m \u001B[49m\u001B[38;5;241;43m*\u001B[39;49m\u001B[38;5;241;43m*\u001B[39;49m\u001B[43mkwargs\u001B[49m\u001B[43m)\u001B[49m\n",
      "File \u001B[1;32m~\\Documents\\KTH\\Semester_3\\Period_2\\ID2223\\Assignment_1\\id2223-lab1\\venv\\lib\\site-packages\\hsfs\\client\\base.py:179\u001B[0m, in \u001B[0;36mClient._send_request\u001B[1;34m(self, method, path_params, query_params, headers, data, stream, files)\u001B[0m\n\u001B[0;32m    178\u001B[0m \u001B[38;5;28;01mif\u001B[39;00m response\u001B[38;5;241m.\u001B[39mstatus_code \u001B[38;5;241m/\u001B[39m\u001B[38;5;241m/\u001B[39m \u001B[38;5;241m100\u001B[39m \u001B[38;5;241m!=\u001B[39m \u001B[38;5;241m2\u001B[39m:\n\u001B[1;32m--> 179\u001B[0m     \u001B[38;5;28;01mraise\u001B[39;00m exceptions\u001B[38;5;241m.\u001B[39mRestAPIError(url, response)\n\u001B[0;32m    181\u001B[0m \u001B[38;5;28;01mif\u001B[39;00m stream:\n",
      "\u001B[1;31mRestAPIError\u001B[0m: Metadata operation error: (url: https://c.app.hopsworks.ai/hopsworks-api/api/project/187540/featurestores/187459/featureview/wine/version/1). Server response: \nHTTP code: 404, HTTP reason: Not Found, body: b'{\"errorCode\":270009,\"usrMsg\":\"Cannot construct the query. Parent feature groups of the following features are not available anymore: fixed_acidity, volatile_acidity, citric_acid, chlorides, density, alcohol, quality, type_white\",\"errorMsg\":\"Featuregroup wasn\\'t found.\"}', error code: 270009, error msg: Featuregroup wasn't found., user msg: Cannot construct the query. Parent feature groups of the following features are not available anymore: fixed_acidity, volatile_acidity, citric_acid, chlorides, density, alcohol, quality, type_white",
      "\nDuring handling of the above exception, another exception occurred:\n",
      "\u001B[1;31mValueError\u001B[0m                                Traceback (most recent call last)",
      "Cell \u001B[1;32mIn[25], line 5\u001B[0m\n\u001B[0;32m      3\u001B[0m wine_fg \u001B[38;5;241m=\u001B[39m fs\u001B[38;5;241m.\u001B[39mget_feature_group(name\u001B[38;5;241m=\u001B[39m\u001B[38;5;124m\"\u001B[39m\u001B[38;5;124mwine\u001B[39m\u001B[38;5;124m\"\u001B[39m, version\u001B[38;5;241m=\u001B[39m\u001B[38;5;241m1\u001B[39m)\n\u001B[0;32m      4\u001B[0m query \u001B[38;5;241m=\u001B[39m wine_fg\u001B[38;5;241m.\u001B[39mselect_all()\n\u001B[1;32m----> 5\u001B[0m feature_view \u001B[38;5;241m=\u001B[39m \u001B[43mfs\u001B[49m\u001B[38;5;241;43m.\u001B[39;49m\u001B[43mget_or_create_feature_view\u001B[49m\u001B[43m(\u001B[49m\u001B[43mname\u001B[49m\u001B[38;5;241;43m=\u001B[39;49m\u001B[38;5;124;43m\"\u001B[39;49m\u001B[38;5;124;43mwine\u001B[39;49m\u001B[38;5;124;43m\"\u001B[39;49m\u001B[43m,\u001B[49m\n\u001B[0;32m      6\u001B[0m \u001B[43m                                  \u001B[49m\u001B[43mversion\u001B[49m\u001B[38;5;241;43m=\u001B[39;49m\u001B[38;5;241;43m1\u001B[39;49m\u001B[43m,\u001B[49m\n\u001B[0;32m      7\u001B[0m \u001B[43m                                  \u001B[49m\u001B[43mdescription\u001B[49m\u001B[38;5;241;43m=\u001B[39;49m\u001B[38;5;124;43m\"\u001B[39;49m\u001B[38;5;124;43mRead from wine quality dataset\u001B[39;49m\u001B[38;5;124;43m\"\u001B[39;49m\u001B[43m,\u001B[49m\n\u001B[0;32m      8\u001B[0m \u001B[43m                                  \u001B[49m\u001B[43mlabels\u001B[49m\u001B[38;5;241;43m=\u001B[39;49m\u001B[43m[\u001B[49m\u001B[38;5;124;43m\"\u001B[39;49m\u001B[38;5;124;43mquality\u001B[39;49m\u001B[38;5;124;43m\"\u001B[39;49m\u001B[43m]\u001B[49m\u001B[43m,\u001B[49m\n\u001B[0;32m      9\u001B[0m \u001B[43m                                  \u001B[49m\u001B[43mquery\u001B[49m\u001B[38;5;241;43m=\u001B[39;49m\u001B[43mquery\u001B[49m\u001B[43m)\u001B[49m\n",
      "File \u001B[1;32m~\\Documents\\KTH\\Semester_3\\Period_2\\ID2223\\Assignment_1\\id2223-lab1\\venv\\lib\\site-packages\\hsfs\\feature_store.py:1502\u001B[0m, in \u001B[0;36mFeatureStore.get_or_create_feature_view\u001B[1;34m(self, name, query, version, description, labels, transformation_functions)\u001B[0m\n\u001B[0;32m   1465\u001B[0m \u001B[38;5;250m\u001B[39m\u001B[38;5;124;03m\"\"\"Get feature view metadata object or create a new one if it doesn't exist. This method doesn't update\u001B[39;00m\n\u001B[0;32m   1466\u001B[0m \u001B[38;5;124;03mexisting feature view metadata object.\u001B[39;00m\n\u001B[0;32m   1467\u001B[0m \n\u001B[1;32m   (...)\u001B[0m\n\u001B[0;32m   1498\u001B[0m \u001B[38;5;124;03m    `FeatureView`: The feature view metadata object.\u001B[39;00m\n\u001B[0;32m   1499\u001B[0m \u001B[38;5;124;03m\"\"\"\u001B[39;00m\n\u001B[0;32m   1501\u001B[0m \u001B[38;5;28;01mtry\u001B[39;00m:\n\u001B[1;32m-> 1502\u001B[0m     \u001B[38;5;28;01mreturn\u001B[39;00m \u001B[38;5;28;43mself\u001B[39;49m\u001B[38;5;241;43m.\u001B[39;49m\u001B[43m_feature_view_engine\u001B[49m\u001B[38;5;241;43m.\u001B[39;49m\u001B[43mget\u001B[49m\u001B[43m(\u001B[49m\u001B[43mname\u001B[49m\u001B[43m,\u001B[49m\u001B[43m \u001B[49m\u001B[43mversion\u001B[49m\u001B[43m)\u001B[49m\n\u001B[0;32m   1503\u001B[0m \u001B[38;5;28;01mexcept\u001B[39;00m exceptions\u001B[38;5;241m.\u001B[39mRestAPIError \u001B[38;5;28;01mas\u001B[39;00m e:\n\u001B[0;32m   1504\u001B[0m     \u001B[38;5;28;01mif\u001B[39;00m (\n\u001B[0;32m   1505\u001B[0m         e\u001B[38;5;241m.\u001B[39mresponse\u001B[38;5;241m.\u001B[39mjson()\u001B[38;5;241m.\u001B[39mget(\u001B[38;5;124m\"\u001B[39m\u001B[38;5;124merrorCode\u001B[39m\u001B[38;5;124m\"\u001B[39m, \u001B[38;5;124m\"\u001B[39m\u001B[38;5;124m\"\u001B[39m) \u001B[38;5;241m==\u001B[39m \u001B[38;5;241m270181\u001B[39m\n\u001B[0;32m   1506\u001B[0m         \u001B[38;5;129;01mand\u001B[39;00m e\u001B[38;5;241m.\u001B[39mresponse\u001B[38;5;241m.\u001B[39mstatus_code \u001B[38;5;241m==\u001B[39m \u001B[38;5;241m404\u001B[39m\n\u001B[0;32m   1507\u001B[0m     ):\n",
      "File \u001B[1;32m~\\Documents\\KTH\\Semester_3\\Period_2\\ID2223\\Assignment_1\\id2223-lab1\\venv\\lib\\site-packages\\hsfs\\core\\feature_view_engine.py:96\u001B[0m, in \u001B[0;36mFeatureViewEngine.get\u001B[1;34m(self, name, version)\u001B[0m\n\u001B[0;32m     94\u001B[0m \u001B[38;5;28;01mdef\u001B[39;00m \u001B[38;5;21mget\u001B[39m(\u001B[38;5;28mself\u001B[39m, name, version\u001B[38;5;241m=\u001B[39m\u001B[38;5;28;01mNone\u001B[39;00m):\n\u001B[0;32m     95\u001B[0m     \u001B[38;5;28;01mif\u001B[39;00m version:\n\u001B[1;32m---> 96\u001B[0m         fv \u001B[38;5;241m=\u001B[39m \u001B[38;5;28;43mself\u001B[39;49m\u001B[38;5;241;43m.\u001B[39;49m\u001B[43m_feature_view_api\u001B[49m\u001B[38;5;241;43m.\u001B[39;49m\u001B[43mget_by_name_version\u001B[49m\u001B[43m(\u001B[49m\u001B[43mname\u001B[49m\u001B[43m,\u001B[49m\u001B[43m \u001B[49m\u001B[43mversion\u001B[49m\u001B[43m)\u001B[49m\n\u001B[0;32m     97\u001B[0m         \u001B[38;5;28mself\u001B[39m\u001B[38;5;241m.\u001B[39mattach_transformation_function(fv)\n\u001B[0;32m     98\u001B[0m     \u001B[38;5;28;01melse\u001B[39;00m:\n",
      "File \u001B[1;32m~\\Documents\\KTH\\Semester_3\\Period_2\\ID2223\\Assignment_1\\id2223-lab1\\venv\\lib\\site-packages\\hsfs\\core\\feature_view_api.py:107\u001B[0m, in \u001B[0;36mFeatureViewApi.get_by_name_version\u001B[1;34m(self, name, version)\u001B[0m\n\u001B[0;32m    105\u001B[0m \u001B[38;5;28;01mexcept\u001B[39;00m RestAPIError \u001B[38;5;28;01mas\u001B[39;00m e:\n\u001B[0;32m    106\u001B[0m     \u001B[38;5;28;01mif\u001B[39;00m e\u001B[38;5;241m.\u001B[39mresponse\u001B[38;5;241m.\u001B[39mjson()\u001B[38;5;241m.\u001B[39mget(\u001B[38;5;124m\"\u001B[39m\u001B[38;5;124merrorCode\u001B[39m\u001B[38;5;124m\"\u001B[39m, \u001B[38;5;124m\"\u001B[39m\u001B[38;5;124m\"\u001B[39m) \u001B[38;5;241m==\u001B[39m \u001B[38;5;241m270009\u001B[39m:\n\u001B[1;32m--> 107\u001B[0m         \u001B[38;5;28;01mraise\u001B[39;00m \u001B[38;5;167;01mValueError\u001B[39;00m(\n\u001B[0;32m    108\u001B[0m             \u001B[38;5;124m\"\u001B[39m\u001B[38;5;124mCannot get back the feature view because the query defined is no longer valid.\u001B[39m\u001B[38;5;124m\"\u001B[39m\n\u001B[0;32m    109\u001B[0m             \u001B[38;5;124m\"\u001B[39m\u001B[38;5;124m Some feature groups used in the query may have been deleted. You can clean up this feature view on the UI\u001B[39m\u001B[38;5;124m\"\u001B[39m\n\u001B[0;32m    110\u001B[0m             \u001B[38;5;124m\"\u001B[39m\u001B[38;5;124m or `FeatureView.clean`.\u001B[39m\u001B[38;5;124m\"\u001B[39m\n\u001B[0;32m    111\u001B[0m         )\n\u001B[0;32m    112\u001B[0m     \u001B[38;5;28;01melse\u001B[39;00m:\n\u001B[0;32m    113\u001B[0m         \u001B[38;5;28;01mraise\u001B[39;00m e\n",
      "\u001B[1;31mValueError\u001B[0m: Cannot get back the feature view because the query defined is no longer valid. Some feature groups used in the query may have been deleted. You can clean up this feature view on the UI or `FeatureView.clean`."
     ]
    }
   ],
   "source": [
    "# The feature view is the input set of features for your model. The features can come from different feature groups.    \n",
    "# You can select features from different feature groups and join them together to create a feature view\n",
    "wine_fg = fs.get_feature_group(name=\"wine_quality\", version=1)\n",
    "query = wine_fg.select_all()\n",
    "feature_view = fs.get_or_create_feature_view(name=\"wine_quality\",\n",
    "                                  version=1,\n",
    "                                  description=\"Read from wine quality dataset\",\n",
    "                                  labels=[\"quality\"],\n",
    "                                  query=query)"
   ]
  },
  {
   "cell_type": "code",
   "execution_count": null,
   "outputs": [],
   "source": [
    "# You can read training data, randomly split into train/test sets of features (X) and labels (y)\n",
    "X_train, X_test, y_train, y_test = feature_view.train_test_split(0.2)\n",
    "\n",
    "\n",
    "# TODO stratify!!!!!\n",
    "\n",
    "\n",
    "# Train our model with the Scikit-learn Random Forest  using our features (X_train) and labels (y_train)\n",
    "#model = RandomForestClassifier(n_estimators=25, criterion='gini')\n",
    "model = XGBClassifier()\n",
    "model.fit(X_train, y_train.values.ravel())\n",
    "\n",
    "\n"
   ],
   "metadata": {
    "collapsed": false
   }
  },
  {
   "cell_type": "code",
   "execution_count": null,
   "id": "77aa0aee",
   "metadata": {},
   "outputs": [],
   "source": [
    "# Evaluate model performance using the features from the test set (X_test)\n",
    "y_pred = model.predict(X_test)\n",
    "\n",
    "# Compare predictions (y_pred) with the labels in the test set (y_test)\n",
    "metrics = classification_report(y_test, y_pred, output_dict=True)\n",
    "results = confusion_matrix(y_test, y_pred)"
   ]
  },
  {
   "cell_type": "code",
   "execution_count": null,
   "id": "4d944032",
   "metadata": {},
   "outputs": [],
   "source": [
    "# Create the confusion matrix as a figure, we will later store it as a PNG image file\n",
    "true_labels = [f'True {int(i)}' for i in range(0,7)]\n",
    "pred_labels = [f'Pred {int(i)}' for i in range(0,7)]\n",
    "df_cm = pd.DataFrame(results, true_labels, pred_labels)\n",
    "cm = sns.heatmap(df_cm, annot=True, fmt='g')\n",
    "fig = cm.get_figure()"
   ]
  },
  {
   "cell_type": "code",
   "execution_count": null,
   "id": "bcfdfc4f",
   "metadata": {},
   "outputs": [],
   "source": [
    "# We will now upload our model to the Hopsworks Model Registry. First get an object for the model registry.\n",
    "mr = project.get_model_registry()\n",
    "\n",
    "# The contents of the 'wine_model' directory will be saved to the model registry. Create the dir, first.\n",
    "model_dir=\"wine_model\"\n",
    "if os.path.isdir(model_dir) == False:\n",
    "    os.mkdir(model_dir)\n",
    "\n",
    "# Save both our model and the confusion matrix to 'model_dir', whose contents will be uploaded to the model registry\n",
    "joblib.dump(model, model_dir + \"/wine_model.pkl\")\n",
    "fig.savefig(model_dir + \"/confusion_matrix.png\")    \n",
    "\n",
    "# Specify the schema of the model's input/output using the features (X_train) and labels (y_train)\n",
    "input_schema = Schema(X_train)\n",
    "output_schema = Schema(y_train)\n",
    "model_schema = ModelSchema(input_schema, output_schema)\n",
    "\n",
    "# Create an entry in the model registry that includes the model's name, desc, metrics\n",
    "wine_model = mr.python.create_model(\n",
    "    name=\"wine_model\", \n",
    "    metrics={\"accuracy\" : metrics['accuracy']},\n",
    "    model_schema=model_schema,\n",
    "    description=\"Wine Quality Predictor\"\n",
    ")\n",
    "\n",
    "# Upload the model to the model registry, including all files in 'model_dir'\n",
    "wine_model.save(model_dir)"
   ]
  },
  {
   "cell_type": "code",
   "execution_count": null,
   "id": "f707b056",
   "metadata": {},
   "outputs": [],
   "source": []
  }
 ],
 "metadata": {
  "kernelspec": {
   "display_name": "Python 3 (ipykernel)",
   "language": "python",
   "name": "python3"
  },
  "language_info": {
   "codemirror_mode": {
    "name": "ipython",
    "version": 3
   },
   "file_extension": ".py",
   "mimetype": "text/x-python",
   "name": "python",
   "nbconvert_exporter": "python",
   "pygments_lexer": "ipython3",
   "version": "3.8.18"
  }
 },
 "nbformat": 4,
 "nbformat_minor": 5
}
